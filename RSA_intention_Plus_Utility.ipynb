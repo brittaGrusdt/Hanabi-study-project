{
 "cells": [
  {
   "cell_type": "markdown",
   "metadata": {},
   "source": [
    "## Playground for RSA for Hanabi with 'intention representation' ##"
   ]
  },
  {
   "cell_type": "code",
   "execution_count": 2,
   "metadata": {},
   "outputs": [],
   "source": [
    "import numpy as np\n",
    "import utility_saskia as ut\n",
    "# needs the utility.py file from:\n",
    "# https://github.com/saskiabruhn/Hanabi/blob/master/hanabi_learning_environment/agents/utility.py"
   ]
  },
  {
   "cell_type": "markdown",
   "metadata": {},
   "source": [
    "For this examples, let's imagine a 2 player game of Hanabi.\n",
    "\n",
    "Situation: Player 2 has a red card on chop position that Player 1 wants her \"to save\". Player 1 gives the hint \"red card (only) on 1st position\" to Player 2. Player 2 then reasons about Player 1's intention behind this hint. For now, this means she only reasons about the 1st card in her hand.\n"
   ]
  },
  {
   "cell_type": "code",
   "execution_count": 3,
   "metadata": {},
   "outputs": [],
   "source": [
    "# list of all available actions\n",
    "\n",
    "# TO DO: make list of all possible actions compatible to Saskia's utility function\n",
    "all_actions = [{'action_type': 'REVEAL_COLOR', 'target_offset': 1, 'color': 'R'},\n",
    "              {'action_type': 'REVEAL_COLOR', 'target_offset': 1, 'color': 'B'},\n",
    "              {'action_type': 'REVEAL_COLOR', 'target_offset': 1, 'color': 'G'},\n",
    "              {'action_type': 'REVEAL_COLOR', 'target_offset': 1, 'color': 'Y'},\n",
    "              {'action_type': 'REVEAL_COLOR', 'target_offset': 1, 'color': 'W'},\n",
    "              {'action_type': 'DISCARD'}]\n",
    "               \n",
    "all_intentions = ['play', 'save', 'discard']\n",
    "\n",
    "# current situation, taken from Saskia's utility function\n",
    "estimated_board = {'life_tokens': 3,\n",
    "                   'information_tokens': 7,\n",
    "                   'fireworks': {'R': 3, 'Y': 2, 'G': 4, 'W': 1, 'B': 2},\n",
    "                   'discard_pile': ['B2', 'B3', 'B2'],\n",
    "                   'estimated_hands': [\n",
    "                       [{'color': None, 'rank': -1},\n",
    "                        {'color': None, 'rank': 0},\n",
    "                        {'color': None, 'rank': -1},\n",
    "                        {'color': None, 'rank': -1},\n",
    "                        {'color': None, 'rank': -1}],\n",
    "                       [{'color': 'B', 'rank': 2},\n",
    "                        {'color': 'R', 'rank': 0},\n",
    "                        {'color': 'Y', 'rank': 4},\n",
    "                        {'color': 'B', 'rank': 3},\n",
    "                        {'color': 'Y', 'rank': 0}]\n",
    "                    ]\n",
    "                   }\n",
    "\n",
    "\n",
    "# my old abitrary fixed utilities\n",
    "#utilities = {\n",
    "#    'to play': {'red': 0.4, 'blue': -3, 'discard': -1},\n",
    "#    'to save': {'red': 0.9, 'blue': -2, 'discard': -3},\n",
    "#    'to discard': {'red': -1, 'blue': 0.01, 'discard': 0.9}\n",
    "#}\n",
    "\n",
    "# assuming flat priors for now\n",
    "priors = {\n",
    "    'play': 1,\n",
    "    'save': 1,\n",
    "    'discard': 1\n",
    "}\n"
   ]
  },
  {
   "cell_type": "markdown",
   "metadata": {},
   "source": [
    "\n",
    "Pragmatic Listener \n",
    "\n",
    "formular: probability_to_play = likelihood_action_given_intention * prior[intention]) / sum (all other likelihoods * prioir[intention])"
   ]
  },
  {
   "cell_type": "code",
   "execution_count": 4,
   "metadata": {},
   "outputs": [],
   "source": [
    "def prag_listener(action, estimated_board, intention):\n",
    "    bayes_numerator = (prag_speaker(action, estimated_board, intention) * priors[intention])\n",
    "    bayes_denominator = 0\n",
    "    for specific_intention in all_intentions:\n",
    "        bayes_denominator += prag_speaker(action, estimated_board, specific_intention) * priors[intention]\n",
    "    return bayes_numerator / bayes_denominator\n"
   ]
  },
  {
   "cell_type": "markdown",
   "metadata": {},
   "source": [
    "Pragmatic speaker"
   ]
  },
  {
   "cell_type": "code",
   "execution_count": 11,
   "metadata": {},
   "outputs": [],
   "source": [
    "def prag_speaker(action, estimated_board, intention):\n",
    "    alpha = 1\n",
    "    softmax_numerator = np.exp(alpha * ut.utility(intention, estimated_board, card))\n",
    "    softmax_denominator = 0\n",
    "    for specific_action in all_actions:\n",
    "        # TO DO:\n",
    "        # PROBLEM: HOW TO INCLUDE DIFFERENT ACTIONS HERE?\n",
    "        softmax_denominator += np.exp(alpha * ut.utility(intention, estimated_board, card))\n",
    "    return softmax_numerator / softmax_denominator"
   ]
  },
  {
   "cell_type": "markdown",
   "metadata": {},
   "source": [
    "## Experiments ##"
   ]
  },
  {
   "cell_type": "code",
   "execution_count": 9,
   "metadata": {},
   "outputs": [
    {
     "name": "stdout",
     "output_type": "stream",
     "text": [
      "Hint is: 'red'\n",
      "\n",
      "probability to save:  0.3333333333333333\n",
      "probability to play:  0.3333333333333333\n",
      "probability to discard:  0.33333333333333337\n"
     ]
    }
   ],
   "source": [
    "last_action = {'action_type': 'REVEAL_COLOR', 'target_offset': 1, 'color': 'R'}\n",
    "card = {'color': 'R', 'rank': 2}\n",
    "\n",
    "prob_to_play = prag_listener(last_action, estimated_board, 'play')\n",
    "prob_to_save = prag_listener(last_action, estimated_board, 'save')\n",
    "prob_to_discard = prag_listener(last_action, estimated_board, 'discard')\n",
    "\n",
    "print(\"Hint is: 'red'\\n\")\n",
    "print(\"probability to save: \",prob_to_save)\n",
    "print(\"probability to play: \",prob_to_play)\n",
    "print(\"probability to discard: \",prob_to_discard)"
   ]
  },
  {
   "cell_type": "code",
   "execution_count": null,
   "metadata": {},
   "outputs": [],
   "source": []
  }
 ],
 "metadata": {
  "kernelspec": {
   "display_name": "Python 3",
   "language": "python",
   "name": "python3"
  },
  "language_info": {
   "codemirror_mode": {
    "name": "ipython",
    "version": 3
   },
   "file_extension": ".py",
   "mimetype": "text/x-python",
   "name": "python",
   "nbconvert_exporter": "python",
   "pygments_lexer": "ipython3",
   "version": "3.6.10"
  }
 },
 "nbformat": 4,
 "nbformat_minor": 2
}
