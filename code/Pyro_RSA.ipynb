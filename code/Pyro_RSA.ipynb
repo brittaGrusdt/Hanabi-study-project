{
 "cells": [
  {
   "cell_type": "code",
   "execution_count": 25,
   "metadata": {},
   "outputs": [],
   "source": [
    "import numpy as np\n",
    "#first some imports\n",
    "import torch\n",
    "torch.set_default_dtype(torch.float64)  # double precision for numerical stability\n",
    "\n",
    "import matplotlib.pyplot as plt\n",
    "\n",
    "import pyro\n",
    "import pyro.distributions as dist\n",
    "import pyro.poutine as poutine"
   ]
  },
  {
   "cell_type": "markdown",
   "metadata": {},
   "source": [
    "### Playground"
   ]
  },
  {
   "cell_type": "markdown",
   "metadata": {},
   "source": [
    "Illustration of building marginal dist. from a sampling function"
   ]
  },
  {
   "cell_type": "code",
   "execution_count": 26,
   "metadata": {
    "scrolled": true
   },
   "outputs": [
    {
     "data": {
      "text/plain": [
       "(array([ 5.,  3., 15.,  9., 12., 18., 17.,  7.,  7.,  7.]),\n",
       " array([ 997.6676095 ,  998.08823414,  998.50885877,  998.9294834 ,\n",
       "         999.35010804,  999.77073267, 1000.19135731, 1000.61198194,\n",
       "        1001.03260658, 1001.45323121, 1001.87385584]),\n",
       " <a list of 10 Patch objects>)"
      ]
     },
     "execution_count": 26,
     "metadata": {},
     "output_type": "execute_result"
    },
    {
     "data": {
      "image/png": "[encoded data removed]",
      "text/plain": [
       "<Figure size 432x288 with 1 Axes>"
      ]
     },
     "metadata": {
      "needs_background": "light"
     },
     "output_type": "display_data"
    }
   ],
   "source": [
    "def foo():\n",
    "    return pyro.sample(\"a\", pyro.distributions.Normal(1000,1))\n",
    "\n",
    "# make the marginal distributions on return values explicit:\n",
    "posterior = pyro.infer.Importance(foo, num_samples=100) # other sampling methods e.g. NUTS\n",
    "marginal = pyro.infer.EmpiricalMarginal(posterior.run())\n",
    "plt.hist(marginal._get_samples_and_weights()[0]) # return tuple, [0]:samples and [1]:weights"
   ]
  },
  {
   "cell_type": "code",
   "execution_count": 27,
   "metadata": {
    "scrolled": false
   },
   "outputs": [
    {
     "data": {
      "text/plain": [
       "tensor(999.0523)"
      ]
     },
     "execution_count": 27,
     "metadata": {},
     "output_type": "execute_result"
    }
   ],
   "source": [
    "pyro.sample('foo', marginal)"
   ]
  },
  {
   "cell_type": "markdown",
   "metadata": {},
   "source": [
    "### Help functions"
   ]
  },
  {
   "cell_type": "code",
   "execution_count": 49,
   "metadata": {},
   "outputs": [],
   "source": [
    "def Infer(sampling_func, num_samples=100):\n",
    "    return(pyro.infer.EmpiricalMarginal(\n",
    "        pyro.infer.Importance(\n",
    "            sampling_func, num_samples=num_samples).run()))"
   ]
  },
  {
   "cell_type": "code",
   "execution_count": 29,
   "metadata": {},
   "outputs": [],
   "source": [
    "def factor(name, value):\n",
    "    \"\"\"\n",
    "    Like factor in webPPL, adds a scalar weight to the log-probability of the trace. Function from\n",
    "    search_inference.py\n",
    "    \"\"\"\n",
    "    value = value if torch.is_tensor(value) else torch.tensor(value)\n",
    "    d = dist.Bernoulli(logits=value)\n",
    "    pyro.sample(name, d, obs=torch.ones(value.size()))"
   ]
  },
  {
   "cell_type": "code",
   "execution_count": 30,
   "metadata": {},
   "outputs": [],
   "source": [
    "def state_prior():  # state 0,1,2,3,4\n",
    "    return pyro.sample(\"state\", dist.Categorical(probs=torch.ones(5) / 5))\n",
    "\n",
    "def utterance_prior():  # utterance 0:none, 1:some, 2:all\n",
    "    return pyro.sample(\"utt\", dist.Categorical(probs=torch.ones(3) / 3))"
   ]
  },
  {
   "cell_type": "code",
   "execution_count": 31,
   "metadata": {},
   "outputs": [],
   "source": [
    "meanings = {\n",
    "    0: lambda N: N==0,\n",
    "    1: lambda N: N>0,\n",
    "    2: lambda N: N==4,\n",
    "}\n",
    "\n",
    "def meaning(utterance, state):\n",
    "    return meanings[utterance](state)"
   ]
  },
  {
   "cell_type": "markdown",
   "metadata": {},
   "source": [
    "http://www.problang.org/images/rsa_schema.png"
   ]
  },
  {
   "cell_type": "markdown",
   "metadata": {},
   "source": [
    "### Literal listener"
   ]
  },
  {
   "cell_type": "code",
   "execution_count": 32,
   "metadata": {},
   "outputs": [],
   "source": [
    "def literal_listener(utterance):\n",
    "    def sample_ll():\n",
    "        state = state_prior()\n",
    "        factor(\"literal_meaning\", 0. if meaning(utterance, state) else -999999.)\n",
    "        return state\n",
    "    return Infer(sample_ll)"
   ]
  },
  {
   "cell_type": "code",
   "execution_count": 33,
   "metadata": {
    "scrolled": true
   },
   "outputs": [
    {
     "data": {
      "text/plain": [
       "(array([18.,  0.,  0., 30.,  0.,  0., 25.,  0.,  0., 27.]),\n",
       " array([1. , 1.3, 1.6, 1.9, 2.2, 2.5, 2.8, 3.1, 3.4, 3.7, 4. ]),\n",
       " <a list of 10 Patch objects>)"
      ]
     },
     "execution_count": 33,
     "metadata": {},
     "output_type": "execute_result"
    },
    {
     "data": {
      "image/png": "[encoded data removed]",
      "text/plain": [
       "<Figure size 432x288 with 1 Axes>"
      ]
     },
     "metadata": {
      "needs_background": "light"
     },
     "output_type": "display_data"
    }
   ],
   "source": [
    "samples_ll = np.zeros(100)\n",
    "for s in range(100):\n",
    "    samples_ll[s] = pyro.sample('fooba',literal_listener(1)) # some(1) return state 1,2,3,4 equiprob.\n",
    "plt.hist(samples_ll)"
   ]
  },
  {
   "cell_type": "markdown",
   "metadata": {},
   "source": [
    "### Speaker"
   ]
  },
  {
   "cell_type": "code",
   "execution_count": 34,
   "metadata": {},
   "outputs": [],
   "source": [
    "def speaker(state): # p(u|s)\n",
    "    def sample_s():\n",
    "        alpha = 1.  # optimality\n",
    "        with poutine.scale(scale=torch.tensor(alpha)):\n",
    "            utterance = utterance_prior() \n",
    "            pyro.sample(\"listener\", literal_listener(int(utterance)), \n",
    "                        obs=state) # equi. to .score(state) in webPPL\n",
    "        return utterance\n",
    "    return Infer(sample_s)"
   ]
  },
  {
   "cell_type": "code",
   "execution_count": 35,
   "metadata": {
    "scrolled": true
   },
   "outputs": [
    {
     "data": {
      "text/plain": [
       "(array([ 2.,  0.,  0.,  0.,  0., 24.,  0.,  0.,  0., 74.]),\n",
       " array([0. , 0.2, 0.4, 0.6, 0.8, 1. , 1.2, 1.4, 1.6, 1.8, 2. ]),\n",
       " <a list of 10 Patch objects>)"
      ]
     },
     "execution_count": 35,
     "metadata": {},
     "output_type": "execute_result"
    },
    {
     "data": {
      "image/png": "[encoded data removed]",
      "text/plain": [
       "<Figure size 432x288 with 1 Axes>"
      ]
     },
     "metadata": {
      "needs_background": "light"
     },
     "output_type": "display_data"
    }
   ],
   "source": [
    "# if state=4 say some(1) or all(2) although all is more likely\n",
    "state_samples = np.zeros(100)\n",
    "for i in range(100):\n",
    "    state_samples[i] = pyro.sample('foobi', speaker(4))\n",
    "plt.hist(state_samples)"
   ]
  },
  {
   "cell_type": "markdown",
   "metadata": {},
   "source": [
    "### Pragmatic listener"
   ]
  },
  {
   "cell_type": "code",
   "execution_count": 36,
   "metadata": {},
   "outputs": [],
   "source": [
    "def pragmatic_listener(utterance):\n",
    "    def sample_pl():\n",
    "        state = state_prior() # p(s)\n",
    "        pyro.sample(\"speaker\", speaker(int(state)), obs=utterance) # p(u|s)\n",
    "        return state\n",
    "    return Infer(sample_pl)"
   ]
  },
  {
   "cell_type": "code",
   "execution_count": 38,
   "metadata": {
    "scrolled": true
   },
   "outputs": [
    {
     "data": {
      "text/plain": [
       "tensor(1)"
      ]
     },
     "execution_count": 38,
     "metadata": {},
     "output_type": "execute_result"
    }
   ],
   "source": [
    "pyro.sample('foobe', pragmatic_listener(1)) # if someone says some(1) the state should be 1,2,3 "
   ]
  },
  {
   "cell_type": "markdown",
   "metadata": {},
   "source": [
    "### Plot"
   ]
  },
  {
   "cell_type": "code",
   "execution_count": null,
   "metadata": {
    "scrolled": true
   },
   "outputs": [],
   "source": [
    "utterance_dict = {'none':0, 'some':1, 'all':2}\n",
    "samples = np.zeros(1000)\n",
    "for s in range(0,1000):\n",
    "    success = False\n",
    "    while not success: # sometimes sampling results in the following error (only for pragmatic listener)\n",
    "        # \"invalid multinomial distribution (encountering probability entry < 0)\"\n",
    "        try:\n",
    "            samples[s] = pyro.sample(\"pragmatic listener\", pragmatic_listener(utterance_dict['some']))\n",
    "            success = True\n",
    "            if s % 10 == 0:\n",
    "                print(s)\n",
    "        except RuntimeError:\n",
    "            pass\n",
    "        "
   ]
  },
  {
   "cell_type": "code",
   "execution_count": 45,
   "metadata": {
    "scrolled": true
   },
   "outputs": [
    {
     "data": {
      "text/plain": [
       "(array([28.,  0.,  0., 21.,  0.,  0., 36.,  0.,  0., 15.]),\n",
       " array([1. , 1.3, 1.6, 1.9, 2.2, 2.5, 2.8, 3.1, 3.4, 3.7, 4. ]),\n",
       " <a list of 10 Patch objects>)"
      ]
     },
     "execution_count": 45,
     "metadata": {},
     "output_type": "execute_result"
    },
    {
     "data": {
      "image/png": "[encoded data removed]",
      "text/plain": [
       "<Figure size 432x288 with 1 Axes>"
      ]
     },
     "metadata": {
      "needs_background": "light"
     },
     "output_type": "display_data"
    }
   ],
   "source": [
    "plt.hist(samples)"
   ]
  }
 ],
 "metadata": {
  "kernelspec": {
   "display_name": "ml",
   "language": "python",
   "name": "ml"
  },
  "language_info": {
   "codemirror_mode": {
    "name": "ipython",
    "version": 3
   },
   "file_extension": ".py",
   "mimetype": "text/x-python",
   "name": "python",
   "nbconvert_exporter": "python",
   "pygments_lexer": "ipython3",
   "version": "3.8.2"
  }
 },
 "nbformat": 4,
 "nbformat_minor": 4
}
