{
 "cells": [
  {
   "cell_type": "code",
   "execution_count": 1,
   "metadata": {},
   "outputs": [],
   "source": [
    "import copy\n",
    "\n",
    "import numpy as np\n",
    "#first some imports\n",
    "import torch\n",
    "torch.set_default_dtype(torch.float64)  # double precision for numerical stability\n",
    "\n",
    "import matplotlib.pyplot as plt\n",
    "\n",
    "import pyro\n",
    "import pyro.distributions as dist\n",
    "import pyro.poutine as poutine"
   ]
  },
  {
   "cell_type": "code",
   "execution_count": 2,
   "metadata": {},
   "outputs": [],
   "source": [
    "def Infer(sampling_func, num_samples=50):\n",
    "    \"\"\"\n",
    "    Estimate a distribution by importance sampling\n",
    "    \"\"\"\n",
    "    return(pyro.infer.EmpiricalMarginal(\n",
    "        pyro.infer.Importance(\n",
    "            sampling_func, num_samples=num_samples).run()))"
   ]
  },
  {
   "cell_type": "markdown",
   "metadata": {},
   "source": [
    "# Game env"
   ]
  },
  {
   "cell_type": "markdown",
   "metadata": {},
   "source": [
    "Aux. functions from Saskia"
   ]
  },
  {
   "cell_type": "code",
   "execution_count": 3,
   "metadata": {},
   "outputs": [],
   "source": [
    "def CardPlayable(card, fireworks):\n",
    "    if card['color'] is None or card['rank'] is None:\n",
    "        return False\n",
    "    if fireworks[card['color']] == card['rank']:\n",
    "        return True\n",
    "    else:\n",
    "        return False\n",
    "\n",
    "# Card is not needed anymore in the future\n",
    "def CardUseless(card, fireworks):\n",
    "    if card['color'] is None or card['rank'] is None:\n",
    "        return False\n",
    "    if fireworks[card['color']] > int(card['rank']):\n",
    "            return True\n",
    "    else:\n",
    "        return False\n",
    "\n",
    "def remaining_copies(card, discard_pile):\n",
    "    if card['rank'] == 1:\n",
    "        total_copies = 3\n",
    "    elif card['rank'] == 5:\n",
    "        total_copies = 1\n",
    "    else:\n",
    "        total_copies = 2\n",
    "\n",
    "    discarded_copies = discard_pile.count(str(card['color']) + str(card['rank']))\n",
    "\n",
    "    return total_copies - discarded_copies"
   ]
  },
  {
   "cell_type": "code",
   "execution_count": 4,
   "metadata": {},
   "outputs": [],
   "source": [
    "estimated_board = {'life_tokens': 3,\n",
    "                   'information_tokens': 7,\n",
    "                   'fireworks': {'R': 3, 'Y': 2, 'G': 4, 'W': 1, 'B': 2},\n",
    "                   'discard_pile': ['B2', 'B3', 'B2'],\n",
    "                   'estimated_hands': [\n",
    "                       [{'color': None, 'rank': -1},\n",
    "                        {'color': None, 'rank': 0},\n",
    "                        {'color': None, 'rank': -1},\n",
    "                        {'color': None, 'rank': -1},\n",
    "                        {'color': None, 'rank': -1}],\n",
    "                       [{'color': 'B', 'rank': 2},\n",
    "                        {'color': 'R', 'rank': 0},\n",
    "                        {'color': 'Y', 'rank': 4},\n",
    "                        {'color': 'B', 'rank': 3},\n",
    "                        {'color': 'Y', 'rank': 0}]\n",
    "                    ]\n",
    "                   }\n",
    "\n",
    "last_action = {'action_type': 'REVEAL_COLOR', 'target_offset': 1, 'color': 'B'}"
   ]
  },
  {
   "cell_type": "markdown",
   "metadata": {},
   "source": [
    "Knowledge structure as in Eger algorithm with knowledge[plyr_nr][card_nr][col_nr][rank_nr] repr. # realisation left"
   ]
  },
  {
   "cell_type": "code",
   "execution_count": 17,
   "metadata": {},
   "outputs": [],
   "source": [
    "knowledge_structure =[[],[],[]]  # imagine a 3 player game\n",
    "knowledge_structure[0] = [  # of player 0\n",
    "    # 0-th card\n",
    "    [\n",
    "        # 5 different colors in order of B,G,R,W,Y\n",
    "        [2,0,2,2,1],  # 5 ranks\n",
    "        [0,0,2,2,1],  \n",
    "        [2,0,2,2,1],\n",
    "        [2,0,2,2,1],\n",
    "        [2,0,2,2,1]   \n",
    "    ],\n",
    "    # 1-st card\n",
    "    [\n",
    "        [0,0,2,2,0],  # blue is either rank2 or rank3\n",
    "        [2,0,2,1,1],  # green\n",
    "        [2,0,0,0,0],  # red\n",
    "        [2,0,2,2,1],  # white\n",
    "        [2,0,0,0,0]   # yellow\n",
    "    ]\n",
    "]\n",
    "\n",
    "# unrealistic but suppose every plyr have same card possibilities for simplicity\n",
    "knowledge_structure[1] = copy.deepcopy(knowledge_structure[0])\n",
    "knowledge_structure[2] = copy.deepcopy(knowledge_structure[0])\n",
    "\n",
    "\n",
    "num_player = 3\n",
    "num_card = 2"
   ]
  },
  {
   "cell_type": "markdown",
   "metadata": {},
   "source": [
    "# Utility\n",
    "as given by Saskia"
   ]
  },
  {
   "cell_type": "code",
   "execution_count": 6,
   "metadata": {},
   "outputs": [
    {
     "name": "stdout",
     "output_type": "stream",
     "text": [
      "play:  10\n",
      "discard:  -5.5\n",
      "keep -2\n"
     ]
    }
   ],
   "source": [
    "def utility(intention, estimated_board, card):\n",
    "    score = 0\n",
    "\n",
    "    if intention == 'play':\n",
    "        # in intention is play and card is playable, this results in one more card on the fireworks.\n",
    "        # reward this.\n",
    "        if CardPlayable(card, estimated_board['fireworks']):\n",
    "            score += 10\n",
    "\n",
    "        # if intention is play and card is not playable at the time\n",
    "        else:\n",
    "            # punish loosing a card from stack\n",
    "            score -= 1\n",
    "\n",
    "            # punish getting a bomb depending on the number of bombs\n",
    "            if estimated_board['life_tokens'] == 3:\n",
    "                score -= 1\n",
    "            elif estimated_board['life_tokens'] == 2:\n",
    "                score -= 3\n",
    "            elif estimated_board['life_tokens'] == 1:\n",
    "                score -= 25\n",
    "\n",
    "            # if card would still have been relevant in the future, punish loosing it depending on\n",
    "            # the remaining copies of this card in the deck\n",
    "            if not CardUseless(card, estimated_board['fireworks']):\n",
    "                if remaining_copies(card, estimated_board['discard_pile']) == 2:\n",
    "                    score -= 1\n",
    "                elif remaining_copies(card, estimated_board['discard_pile']) == 1:\n",
    "                    score -= 2\n",
    "                elif remaining_copies(card, estimated_board['discard_pile']) == 0:\n",
    "                    score -= 5\n",
    "\n",
    "\n",
    "    elif intention == 'discard':\n",
    "        # punish loosing a card from stack\n",
    "        score -= 1\n",
    "\n",
    "        # reward gaining a hint token:\n",
    "        score += 0.5\n",
    "\n",
    "        # punish discarding a playable card\n",
    "        if CardPlayable(card, estimated_board['fireworks']):\n",
    "            score -= 5\n",
    "\n",
    "        # if card is not playable right now but would have been relevant in the future, punish\n",
    "        # discarding it depending on the number of remaining copies in the game\n",
    "        elif not CardUseless(card, estimated_board['fireworks']):\n",
    "            if remaining_copies(card, estimated_board['discard_pile']) == 2:\n",
    "                score -= 1\n",
    "            elif remaining_copies(card, estimated_board['discard_pile']) == 1:\n",
    "                score -= 2\n",
    "            elif remaining_copies(card, estimated_board['discard_pile']) == 0:\n",
    "                score -= 5\n",
    "\n",
    "        # do we want to reward this additionally? I think rewarding gaining a hint token should be\n",
    "        # enough, so nothing happens here\n",
    "        elif CardUseless(card, estimated_board['fireworks']):\n",
    "            pass\n",
    "\n",
    "    elif intention == 'keep':\n",
    "        # keeping a playable card is punished, because it does not help the game\n",
    "        if CardPlayable(card, estimated_board['fireworks']):\n",
    "            score -= 2\n",
    "\n",
    "        # if card is not playable right now but is relevant in the future of the game reward keeping\n",
    "        # this card depending on the remaining copies in the game\n",
    "        elif not CardUseless(card, estimated_board['fireworks']):\n",
    "            if remaining_copies(card, estimated_board['discard_pile']) == 2:\n",
    "                score += 1\n",
    "            elif remaining_copies(card, estimated_board['discard_pile']) == 1:\n",
    "                score += 2\n",
    "            elif remaining_copies(card, estimated_board['discard_pile']) == 0:\n",
    "                score += 5\n",
    "\n",
    "        # punish keeping a useless card\n",
    "        elif CardUseless(card, estimated_board['fireworks']):\n",
    "            score -= 1\n",
    "\n",
    "    return score\n",
    "\n",
    "\n",
    "\n",
    "intention = 'play'\n",
    "# remember, that rank 0 in cards means rank 1, so rank = 0 and fireworks = 0 means card is playable!\n",
    "card = {'color': 'B', 'rank': 2}\n",
    "\n",
    "print('play: ', utility('play', estimated_board, card))\n",
    "print('discard: ', utility('discard', estimated_board, card))\n",
    "print('keep', utility('keep', estimated_board, card))\n",
    "\n"
   ]
  },
  {
   "cell_type": "markdown",
   "metadata": {},
   "source": [
    "## Speaker\n",
    "$P(action|intention,context)$"
   ]
  },
  {
   "cell_type": "code",
   "execution_count": 7,
   "metadata": {},
   "outputs": [],
   "source": [
    "# TODO: implement a method to give all possible actions\n",
    "possible_actions = [\n",
    "    {'action_type': 'REVEAL_COLOR', 'target_offset': 1, 'color': 'B'}\n",
    "]"
   ]
  },
  {
   "cell_type": "code",
   "execution_count": 8,
   "metadata": {},
   "outputs": [],
   "source": [
    "def pragmatic_speaker(intention,context,card_index):\n",
    "    alpha = 1.  # optimality\n",
    "    numerator = np.zeros(len(possible_actions))\n",
    "    for i in range(len(possible_actions)):\n",
    "        action = possible_actions[i]\n",
    "        numerator[i] = alpha * np.exp(emul_marg(action, intention, context, card_index))\n",
    "    for act in possible_actions: \n",
    "        denom += alpha * np.exp(emul_marg(act, intention, context, card_index))\n",
    "    return numerator / denom  # P(a|i,c)"
   ]
  },
  {
   "cell_type": "markdown",
   "metadata": {},
   "source": [
    "### Emulation\n",
    "should happen in the perspective of public agent\n",
    "\n",
    "Sample multiple game board while keeping congruency with given action and avg. over them\n",
    "\n",
    "e.g.) action: hint blue, game board positively identifies blue card and other negatively\n",
    "\n",
    "### marginalise\n",
    "P(i|a,c) = sum_b P(i,b|a,c) = sum_b P(i|a,c,b) * P(b|a,c)\n",
    "\n",
    "p(b|a,c): how likely to get this specific card given the current knowledge structure"
   ]
  },
  {
   "cell_type": "code",
   "execution_count": 25,
   "metadata": {},
   "outputs": [],
   "source": [
    "def emul_marg(action, intention, context, card_index):\n",
    "#     knowledge_structure = context['estimated_hands']\n",
    "#     TODO: store information such that retrieval is easy (something like list structure in Eger would be good)\n",
    "#     also action must somehow influence possible interpretations of each realisation (a,c) -> b\n",
    "#     summe = 0\n",
    "#     for real in knowledge_structure:\n",
    "#         summe += real_prob * utility(intention, real, card_index)  \n",
    "        \n",
    "    mass = 0\n",
    "    threshold = 420\n",
    "    # until enough prob. mass is sampled \n",
    "    while mass < threshold:  \n",
    "        # only samples with prob > 0 is a valid sample\n",
    "        while True:\n",
    "            prob = 1\n",
    "            # color, rank indicies for every card,plyr\n",
    "            ci, ri = np.random.randint(low=0, high=5, size=(2,num_player,num_card)) \n",
    "            for pi in range(num_player):\n",
    "                for i in range(num_card):\n",
    "                    # independence for each card of each player\n",
    "                    prob *= knowledge_structure[pi][i][ci[pi,i]][ri[pi,i]]\n",
    "            if prob != 0:\n",
    "                break\n",
    "        \n",
    "        # TODO: do we rly enumerate over all card of all player or only one player?\n",
    "        realisation = copy.deepcopy(estimated_board)\n",
    "        realisation['estimated_hands'] = [{'color': ci[pi,0], 'rank': ri[pi,0]},\n",
    "                                          {'color': ci[pi,1], 'rank': ri[pi,1]},\n",
    "                                         ]\n",
    "        print('realisation', realisation)\n",
    "        mass += prob * utility(intention, realisation, card_index)\n",
    "    \n",
    "    return summe  # U(a,i,c)"
   ]
  },
  {
   "cell_type": "markdown",
   "metadata": {},
   "source": [
    "# Listener\n",
    "$P(intention|action,context)$ for a single card"
   ]
  },
  {
   "cell_type": "code",
   "execution_count": 10,
   "metadata": {},
   "outputs": [],
   "source": [
    "def int_prior(context):\n",
    "    # TODO: return an intention sample depending on P(intention|context)\n",
    "    # currently just use uniform prior regardless of context\n",
    "    sample = pyro.sample(\"utt\", dist.Categorical(probs=torch.ones(3) / 3))\n",
    "    if sample == 0:\n",
    "        return 'play'\n",
    "    elif sample ==1:\n",
    "        return 'keep'\n",
    "    else:\n",
    "        return 'discard'"
   ]
  },
  {
   "cell_type": "code",
   "execution_count": 11,
   "metadata": {},
   "outputs": [],
   "source": [
    "def pragmatic_listener(action, context, card_index):\n",
    "    def sample_pl(context, card_index):\n",
    "        intention = int_prior(context) # P(i|c)\n",
    "        pyro.sample(\"pragmatic_speaker\", # P(a|i,c)\n",
    "                    pragmatic_speaker(intention, context, card_index), obs=action) \n",
    "        return intention\n",
    "    return Infer(sample_pl(context,card_index))"
   ]
  },
  {
   "cell_type": "code",
   "execution_count": 27,
   "metadata": {
    "scrolled": false
   },
   "outputs": [
    {
     "name": "stdout",
     "output_type": "stream",
     "text": [
      "realisation {'life_tokens': 3, 'information_tokens': 7, 'fireworks': {'R': 3, 'Y': 2, 'G': 4, 'W': 1, 'B': 2}, 'discard_pile': ['B2', 'B3', 'B2'], 'estimated_hands': [{'color': 3, 'rank': 4}, {'color': 1, 'rank': 2}]}\n"
     ]
    },
    {
     "ename": "TypeError",
     "evalue": "'int' object is not subscriptable",
     "output_type": "error",
     "traceback": [
      "\u001b[0;31m---------------------------------------------------------------------------\u001b[0m",
      "\u001b[0;31mTypeError\u001b[0m                                 Traceback (most recent call last)",
      "\u001b[0;32m<ipython-input-27-5dc4ec272cc7>\u001b[0m in \u001b[0;36m<module>\u001b[0;34m\u001b[0m\n\u001b[0;32m----> 1\u001b[0;31m pragmatic_listener({'action_type': 'REVEAL_COLOR', 'target_offset': 1, 'color': 'B'},\n\u001b[0m\u001b[1;32m      2\u001b[0m                   \u001b[0mestimated_board\u001b[0m\u001b[0;34m,\u001b[0m\u001b[0;34m\u001b[0m\u001b[0;34m\u001b[0m\u001b[0m\n\u001b[1;32m      3\u001b[0m                   0)\n",
      "\u001b[0;32m<ipython-input-11-bba295884dbf>\u001b[0m in \u001b[0;36mpragmatic_listener\u001b[0;34m(action, context, card_index)\u001b[0m\n\u001b[1;32m      5\u001b[0m                     pragmatic_speaker(intention, context, card_index), obs=action) \n\u001b[1;32m      6\u001b[0m         \u001b[0;32mreturn\u001b[0m \u001b[0mintention\u001b[0m\u001b[0;34m\u001b[0m\u001b[0;34m\u001b[0m\u001b[0m\n\u001b[0;32m----> 7\u001b[0;31m     \u001b[0;32mreturn\u001b[0m \u001b[0mInfer\u001b[0m\u001b[0;34m(\u001b[0m\u001b[0msample_pl\u001b[0m\u001b[0;34m(\u001b[0m\u001b[0mcontext\u001b[0m\u001b[0;34m,\u001b[0m\u001b[0mcard_index\u001b[0m\u001b[0;34m)\u001b[0m\u001b[0;34m)\u001b[0m\u001b[0;34m\u001b[0m\u001b[0;34m\u001b[0m\u001b[0m\n\u001b[0m",
      "\u001b[0;32m<ipython-input-11-bba295884dbf>\u001b[0m in \u001b[0;36msample_pl\u001b[0;34m(context, card_index)\u001b[0m\n\u001b[1;32m      3\u001b[0m         \u001b[0mintention\u001b[0m \u001b[0;34m=\u001b[0m \u001b[0mint_prior\u001b[0m\u001b[0;34m(\u001b[0m\u001b[0mcontext\u001b[0m\u001b[0;34m)\u001b[0m \u001b[0;31m# P(i|c)\u001b[0m\u001b[0;34m\u001b[0m\u001b[0;34m\u001b[0m\u001b[0m\n\u001b[1;32m      4\u001b[0m         pyro.sample(\"pragmatic_speaker\", # P(a|i,c)\n\u001b[0;32m----> 5\u001b[0;31m                     pragmatic_speaker(intention, context, card_index), obs=action) \n\u001b[0m\u001b[1;32m      6\u001b[0m         \u001b[0;32mreturn\u001b[0m \u001b[0mintention\u001b[0m\u001b[0;34m\u001b[0m\u001b[0;34m\u001b[0m\u001b[0m\n\u001b[1;32m      7\u001b[0m     \u001b[0;32mreturn\u001b[0m \u001b[0mInfer\u001b[0m\u001b[0;34m(\u001b[0m\u001b[0msample_pl\u001b[0m\u001b[0;34m(\u001b[0m\u001b[0mcontext\u001b[0m\u001b[0;34m,\u001b[0m\u001b[0mcard_index\u001b[0m\u001b[0;34m)\u001b[0m\u001b[0;34m)\u001b[0m\u001b[0;34m\u001b[0m\u001b[0;34m\u001b[0m\u001b[0m\n",
      "\u001b[0;32m<ipython-input-8-ba60f032c107>\u001b[0m in \u001b[0;36mpragmatic_speaker\u001b[0;34m(intention, context, card_index)\u001b[0m\n\u001b[1;32m      4\u001b[0m     \u001b[0;32mfor\u001b[0m \u001b[0mi\u001b[0m \u001b[0;32min\u001b[0m \u001b[0mrange\u001b[0m\u001b[0;34m(\u001b[0m\u001b[0mlen\u001b[0m\u001b[0;34m(\u001b[0m\u001b[0mpossible_actions\u001b[0m\u001b[0;34m)\u001b[0m\u001b[0;34m)\u001b[0m\u001b[0;34m:\u001b[0m\u001b[0;34m\u001b[0m\u001b[0;34m\u001b[0m\u001b[0m\n\u001b[1;32m      5\u001b[0m         \u001b[0maction\u001b[0m \u001b[0;34m=\u001b[0m \u001b[0mpossible_actions\u001b[0m\u001b[0;34m[\u001b[0m\u001b[0mi\u001b[0m\u001b[0;34m]\u001b[0m\u001b[0;34m\u001b[0m\u001b[0;34m\u001b[0m\u001b[0m\n\u001b[0;32m----> 6\u001b[0;31m         \u001b[0mnumerator\u001b[0m\u001b[0;34m[\u001b[0m\u001b[0mi\u001b[0m\u001b[0;34m]\u001b[0m \u001b[0;34m=\u001b[0m \u001b[0malpha\u001b[0m \u001b[0;34m*\u001b[0m \u001b[0mnp\u001b[0m\u001b[0;34m.\u001b[0m\u001b[0mexp\u001b[0m\u001b[0;34m(\u001b[0m\u001b[0memul_marg\u001b[0m\u001b[0;34m(\u001b[0m\u001b[0maction\u001b[0m\u001b[0;34m,\u001b[0m \u001b[0mintention\u001b[0m\u001b[0;34m,\u001b[0m \u001b[0mcontext\u001b[0m\u001b[0;34m,\u001b[0m \u001b[0mcard_index\u001b[0m\u001b[0;34m)\u001b[0m\u001b[0;34m)\u001b[0m\u001b[0;34m\u001b[0m\u001b[0;34m\u001b[0m\u001b[0m\n\u001b[0m\u001b[1;32m      7\u001b[0m     \u001b[0;32mfor\u001b[0m \u001b[0mact\u001b[0m \u001b[0;32min\u001b[0m \u001b[0mpossible_actions\u001b[0m\u001b[0;34m:\u001b[0m\u001b[0;34m\u001b[0m\u001b[0;34m\u001b[0m\u001b[0m\n\u001b[1;32m      8\u001b[0m         \u001b[0mdenom\u001b[0m \u001b[0;34m+=\u001b[0m \u001b[0malpha\u001b[0m \u001b[0;34m*\u001b[0m \u001b[0mnp\u001b[0m\u001b[0;34m.\u001b[0m\u001b[0mexp\u001b[0m\u001b[0;34m(\u001b[0m\u001b[0memul_marg\u001b[0m\u001b[0;34m(\u001b[0m\u001b[0mact\u001b[0m\u001b[0;34m,\u001b[0m \u001b[0mintention\u001b[0m\u001b[0;34m,\u001b[0m \u001b[0mcontext\u001b[0m\u001b[0;34m,\u001b[0m \u001b[0mcard_index\u001b[0m\u001b[0;34m)\u001b[0m\u001b[0;34m)\u001b[0m\u001b[0;34m\u001b[0m\u001b[0;34m\u001b[0m\u001b[0m\n",
      "\u001b[0;32m<ipython-input-25-70be74599622>\u001b[0m in \u001b[0;36memul_marg\u001b[0;34m(action, intention, context, card_index)\u001b[0m\n\u001b[1;32m     29\u001b[0m                                          ]\n\u001b[1;32m     30\u001b[0m         \u001b[0mprint\u001b[0m\u001b[0;34m(\u001b[0m\u001b[0;34m'realisation'\u001b[0m\u001b[0;34m,\u001b[0m \u001b[0mrealisation\u001b[0m\u001b[0;34m)\u001b[0m\u001b[0;34m\u001b[0m\u001b[0;34m\u001b[0m\u001b[0m\n\u001b[0;32m---> 31\u001b[0;31m         \u001b[0mmass\u001b[0m \u001b[0;34m+=\u001b[0m \u001b[0mprob\u001b[0m \u001b[0;34m*\u001b[0m \u001b[0mutility\u001b[0m\u001b[0;34m(\u001b[0m\u001b[0mintention\u001b[0m\u001b[0;34m,\u001b[0m \u001b[0mrealisation\u001b[0m\u001b[0;34m,\u001b[0m \u001b[0mcard_index\u001b[0m\u001b[0;34m)\u001b[0m\u001b[0;34m\u001b[0m\u001b[0;34m\u001b[0m\u001b[0m\n\u001b[0m\u001b[1;32m     32\u001b[0m \u001b[0;34m\u001b[0m\u001b[0m\n\u001b[1;32m     33\u001b[0m     \u001b[0;32mreturn\u001b[0m \u001b[0msumme\u001b[0m  \u001b[0;31m# U(a,i,c)\u001b[0m\u001b[0;34m\u001b[0m\u001b[0;34m\u001b[0m\u001b[0m\n",
      "\u001b[0;32m<ipython-input-6-b2230b17da32>\u001b[0m in \u001b[0;36mutility\u001b[0;34m(intention, estimated_board, card)\u001b[0m\n\u001b[1;32m     40\u001b[0m \u001b[0;34m\u001b[0m\u001b[0m\n\u001b[1;32m     41\u001b[0m         \u001b[0;31m# punish discarding a playable card\u001b[0m\u001b[0;34m\u001b[0m\u001b[0;34m\u001b[0m\u001b[0;34m\u001b[0m\u001b[0m\n\u001b[0;32m---> 42\u001b[0;31m         \u001b[0;32mif\u001b[0m \u001b[0mCardPlayable\u001b[0m\u001b[0;34m(\u001b[0m\u001b[0mcard\u001b[0m\u001b[0;34m,\u001b[0m \u001b[0mestimated_board\u001b[0m\u001b[0;34m[\u001b[0m\u001b[0;34m'fireworks'\u001b[0m\u001b[0;34m]\u001b[0m\u001b[0;34m)\u001b[0m\u001b[0;34m:\u001b[0m\u001b[0;34m\u001b[0m\u001b[0;34m\u001b[0m\u001b[0m\n\u001b[0m\u001b[1;32m     43\u001b[0m             \u001b[0mscore\u001b[0m \u001b[0;34m-=\u001b[0m \u001b[0;36m5\u001b[0m\u001b[0;34m\u001b[0m\u001b[0;34m\u001b[0m\u001b[0m\n\u001b[1;32m     44\u001b[0m \u001b[0;34m\u001b[0m\u001b[0m\n",
      "\u001b[0;32m<ipython-input-3-f82bad349307>\u001b[0m in \u001b[0;36mCardPlayable\u001b[0;34m(card, fireworks)\u001b[0m\n\u001b[1;32m      1\u001b[0m \u001b[0;32mdef\u001b[0m \u001b[0mCardPlayable\u001b[0m\u001b[0;34m(\u001b[0m\u001b[0mcard\u001b[0m\u001b[0;34m,\u001b[0m \u001b[0mfireworks\u001b[0m\u001b[0;34m)\u001b[0m\u001b[0;34m:\u001b[0m\u001b[0;34m\u001b[0m\u001b[0;34m\u001b[0m\u001b[0m\n\u001b[0;32m----> 2\u001b[0;31m     \u001b[0;32mif\u001b[0m \u001b[0mcard\u001b[0m\u001b[0;34m[\u001b[0m\u001b[0;34m'color'\u001b[0m\u001b[0;34m]\u001b[0m \u001b[0;32mis\u001b[0m \u001b[0;32mNone\u001b[0m \u001b[0;32mor\u001b[0m \u001b[0mcard\u001b[0m\u001b[0;34m[\u001b[0m\u001b[0;34m'rank'\u001b[0m\u001b[0;34m]\u001b[0m \u001b[0;32mis\u001b[0m \u001b[0;32mNone\u001b[0m\u001b[0;34m:\u001b[0m\u001b[0;34m\u001b[0m\u001b[0;34m\u001b[0m\u001b[0m\n\u001b[0m\u001b[1;32m      3\u001b[0m         \u001b[0;32mreturn\u001b[0m \u001b[0;32mFalse\u001b[0m\u001b[0;34m\u001b[0m\u001b[0;34m\u001b[0m\u001b[0m\n\u001b[1;32m      4\u001b[0m     \u001b[0;32mif\u001b[0m \u001b[0mfireworks\u001b[0m\u001b[0;34m[\u001b[0m\u001b[0mcard\u001b[0m\u001b[0;34m[\u001b[0m\u001b[0;34m'color'\u001b[0m\u001b[0;34m]\u001b[0m\u001b[0;34m]\u001b[0m \u001b[0;34m==\u001b[0m \u001b[0mcard\u001b[0m\u001b[0;34m[\u001b[0m\u001b[0;34m'rank'\u001b[0m\u001b[0;34m]\u001b[0m\u001b[0;34m:\u001b[0m\u001b[0;34m\u001b[0m\u001b[0;34m\u001b[0m\u001b[0m\n\u001b[1;32m      5\u001b[0m         \u001b[0;32mreturn\u001b[0m \u001b[0;32mTrue\u001b[0m\u001b[0;34m\u001b[0m\u001b[0;34m\u001b[0m\u001b[0m\n",
      "\u001b[0;31mTypeError\u001b[0m: 'int' object is not subscriptable"
     ]
    }
   ],
   "source": [
    "pragmatic_listener({'action_type': 'REVEAL_COLOR', 'target_offset': 1, 'color': 'B'},\n",
    "                  estimated_board,\n",
    "                  0)"
   ]
  },
  {
   "cell_type": "code",
   "execution_count": null,
   "metadata": {},
   "outputs": [],
   "source": [
    "knowledge_structure[1]"
   ]
  }
 ],
 "metadata": {
  "kernelspec": {
   "display_name": "ml",
   "language": "python",
   "name": "ml"
  },
  "language_info": {
   "codemirror_mode": {
    "name": "ipython",
    "version": 3
   },
   "file_extension": ".py",
   "mimetype": "text/x-python",
   "name": "python",
   "nbconvert_exporter": "python",
   "pygments_lexer": "ipython3",
   "version": "3.8.3"
  }
 },
 "nbformat": 4,
 "nbformat_minor": 4
}
