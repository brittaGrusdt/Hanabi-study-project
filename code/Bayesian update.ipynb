{
 "cells": [
  {
   "cell_type": "code",
   "execution_count": 1,
   "metadata": {
    "scrolled": true,
    "slideshow": {
     "slide_type": "skip"
    }
   },
   "outputs": [
    {
     "data": {
      "text/html": [
       "<style>.CodeMirror{min-width:100% !important;}</style>"
      ],
      "text/plain": [
       "<IPython.core.display.HTML object>"
      ]
     },
     "execution_count": 1,
     "metadata": {},
     "output_type": "execute_result"
    }
   ],
   "source": [
    "from IPython.display import HTML\n",
    "HTML('''<style>.CodeMirror{min-width:100% !important;}</style>''')"
   ]
  },
  {
   "cell_type": "code",
   "execution_count": 2,
   "metadata": {
    "slideshow": {
     "slide_type": "skip"
    }
   },
   "outputs": [],
   "source": [
    "import copy\n",
    "\n",
    "import numpy as np\n",
    "#first some imports\n",
    "import torch\n",
    "torch.set_default_dtype(torch.float64)  # double precision for numerical stability\n",
    "\n",
    "import matplotlib.pyplot as plt\n",
    "\n",
    "import pyro\n",
    "import pyro.distributions as dist\n",
    "import pyro.poutine as poutine\n",
    "\n",
    "from sklearn.neighbors import KernelDensity\n",
    "from sklearn.model_selection import GridSearchCV"
   ]
  },
  {
   "cell_type": "markdown",
   "metadata": {
    "slideshow": {
     "slide_type": "notes"
    }
   },
   "source": [
    "# Game environment\n",
    "Variables and functions that's needed to get the game running. I tried to stay close to the format that was originally used by Saskia (and thus close to the framework from Deepmind)."
   ]
  },
  {
   "cell_type": "code",
   "execution_count": 29,
   "metadata": {
    "scrolled": true,
    "slideshow": {
     "slide_type": "notes"
    }
   },
   "outputs": [],
   "source": [
    "# colors\n",
    "GREEN = 0\n",
    "YELLOW = 1\n",
    "WHITE = 2\n",
    "BLUE = 3\n",
    "RED = 4\n",
    "ALL_COLORS = [GREEN, YELLOW, WHITE, BLUE, RED]\n",
    "\n",
    "# ranks\n",
    "ONE = 0\n",
    "TWO = 1\n",
    "THREE = 2\n",
    "FOUR = 3\n",
    "FIVE = 4\n",
    "ALL_RANKS = [ONE, TWO, THREE, FOUR, FIVE]\n",
    "\n",
    "# intention\n",
    "PLAY = 0\n",
    "DISCARD = 1\n",
    "KEEP = 2\n",
    "\n",
    "# misc.\n",
    "HINT_MAX = 7\n",
    "LIFE_MAX = 3\n",
    "COUNT = [3,2,2,2,1]\n",
    "\n",
    "\n",
    "def init_context(num_player, num_card):\n",
    "    '''\n",
    "    initalize the game\n",
    "    '''\n",
    "    return {'life_tokens': LIFE_MAX, # game ends if ==0\n",
    "            'information_tokens': HINT_MAX,\n",
    "            # top of played cards 0-index based (-1 means no card for the color played)\n",
    "            'fireworks': {GREEN: -1, YELLOW: -1, WHITE: -1, BLUE: -1, RED: -1},  \n",
    "            # trashed/fasely played in forms of e.g. {'color':BLUE, 'rank':ONE}\n",
    "            'discard_pile': [],  \n",
    "            # specific realisation allowed by knowledge, used for update step\n",
    "            'hand': [[{'color':None, 'rank':None} for c in range(num_card)] for p in range(num_player)],\n",
    "            # num.instance for [player][card][color][rank]\n",
    "            'knowledge': [[[COUNT for col in ALL_COLORS]\n",
    "                           for card in range(num_card)] for plyr in range(num_player)],\n",
    "            # possible actions: HINT_COLOR, HINT_NUMBER, PLAY, DISCARD\n",
    "            'last_action': {'type':None, 'pnr':None, 'cnr':None, 'color':None, 'rank':None} \n",
    "           }\n",
    "\n",
    "\n",
    "def CardPlayable(card, fireworks):\n",
    "    '''\n",
    "    return True if the card can be played\n",
    "    '''\n",
    "    # rank should be one high up than the current highest to be played\n",
    "    if fireworks[card['color']] +1 == card['rank']:\n",
    "        return True\n",
    "    else:\n",
    "        return False\n",
    "\n",
    "    \n",
    "def CardUseless(card, fireworks):\n",
    "    '''\n",
    "    return True if the card can be surely discarded\n",
    "    '''\n",
    "    if fireworks[card['color']] > int(card['rank']):\n",
    "            return True\n",
    "    else:\n",
    "        return False\n",
    "\n",
    "    \n",
    "def remaining_copies(card, discard_pile):\n",
    "    '''\n",
    "    return number of instance of a given card that is still left in the game\n",
    "    '''\n",
    "    if card['rank'] == ONE:  # rank one\n",
    "        total_copies = 3\n",
    "    elif card['rank'] == FIVE:  # rank five\n",
    "        total_copies = 1\n",
    "    else:\n",
    "        total_copies = 2\n",
    "    \n",
    "    # count how many of the sort given by `card` is discarded\n",
    "    count = 0\n",
    "    for discarded in discard_pile:\n",
    "        col, rank = discarded['color'], discarded['rank']\n",
    "        if (col == card['color']) and (rank == card['rank']):\n",
    "            count += 1\n",
    "    return total_copies - count\n",
    "\n",
    "\n",
    "def update_game(context, last_action):\n",
    "    '''\n",
    "    Adapt context accordingly based on last_action\n",
    "    '''\n",
    "    nc = copy.deepcopy(context)\n",
    "    # update last_action\n",
    "    nc['last_action'] = copy.deepcopy(last_action)\n",
    "\n",
    "    # 1) PLAY\n",
    "    if last_action['type'] == 'PLAY':\n",
    "        # i) update other stuff (hint token, error token, discard piles, fireworks)\n",
    "        card = {'color':last_action['color'],\n",
    "                         'rank':last_action['rank']}\n",
    "        # if played successfully\n",
    "        if CardPlayable(card, context['fireworks']):\n",
    "            # hint token\n",
    "            if (last_action['rank']  == FIVE) and ( # +1 hint for completing the deck\n",
    "                nc['information_tokens'] < HINT_MAX): # if hint token isn't full\n",
    "                nc['information_tokens'] += 1\n",
    "            # fireworks\n",
    "            nc['fireworks'][last_action['color']] = last_action['rank']\n",
    "        # wrong playing\n",
    "        else:\n",
    "            # error token\n",
    "            nc['life_tokens'] -= 1\n",
    "            # discard piles\n",
    "            nc['discard_pile'].append(card)\n",
    "        \n",
    "        # ii) update knowledge\n",
    "        # for a player that played the card, any cards newer than played card shift down by 1\n",
    "        for i in range(last_action['cnr'], num_card-1):\n",
    "            # knowledge[player][card]\n",
    "            nc['knowledge'][last_action['pnr']][i] = context['knowledge'][last_action['pnr']][i+1]\n",
    "        # draw a new card (highest card index, which is num_card-1)\n",
    "        nc['knowledge'][nc['last_action']['pnr']][num_card-1] = [[remaining_copies({'color':col, 'rank':rank}, nc['discard_pile'])\n",
    "                                                for rank in ALL_RANKS] for col in ALL_COLORS]\n",
    "                \n",
    "#     elif nc['last_action']['type'] == 'DISCARD':\n",
    "# TODO: update for discard, hint etc.\n",
    "    return nc"
   ]
  },
  {
   "cell_type": "markdown",
   "metadata": {
    "slideshow": {
     "slide_type": "notes"
    }
   },
   "source": [
    "### Demonstrate usuage"
   ]
  },
  {
   "cell_type": "code",
   "execution_count": 4,
   "metadata": {
    "scrolled": true,
    "slideshow": {
     "slide_type": "notes"
    }
   },
   "outputs": [
    {
     "data": {
      "text/plain": [
       "{'life_tokens': 3,\n",
       " 'information_tokens': 7,\n",
       " 'fireworks': {0: -1, 1: -1, 2: -1, 3: -1, 4: -1},\n",
       " 'discard_pile': [],\n",
       " 'hand': [[{'color': None, 'rank': None},\n",
       "   {'color': None, 'rank': None},\n",
       "   {'color': None, 'rank': None},\n",
       "   {'color': None, 'rank': None},\n",
       "   {'color': None, 'rank': None}],\n",
       "  [{'color': None, 'rank': None},\n",
       "   {'color': None, 'rank': None},\n",
       "   {'color': None, 'rank': None},\n",
       "   {'color': None, 'rank': None},\n",
       "   {'color': None, 'rank': None}],\n",
       "  [{'color': None, 'rank': None},\n",
       "   {'color': None, 'rank': None},\n",
       "   {'color': None, 'rank': None},\n",
       "   {'color': None, 'rank': None},\n",
       "   {'color': None, 'rank': None}]],\n",
       " 'knowledge': [[[[3, 2, 2, 2, 1],\n",
       "    [3, 2, 2, 2, 1],\n",
       "    [3, 2, 2, 2, 1],\n",
       "    [3, 2, 2, 2, 1],\n",
       "    [3, 2, 2, 2, 1]],\n",
       "   [[3, 2, 2, 2, 1],\n",
       "    [3, 2, 2, 2, 1],\n",
       "    [3, 2, 2, 2, 1],\n",
       "    [3, 2, 2, 2, 1],\n",
       "    [3, 2, 2, 2, 1]],\n",
       "   [[3, 2, 2, 2, 1],\n",
       "    [3, 2, 2, 2, 1],\n",
       "    [3, 2, 2, 2, 1],\n",
       "    [3, 2, 2, 2, 1],\n",
       "    [3, 2, 2, 2, 1]],\n",
       "   [[3, 2, 2, 2, 1],\n",
       "    [3, 2, 2, 2, 1],\n",
       "    [3, 2, 2, 2, 1],\n",
       "    [3, 2, 2, 2, 1],\n",
       "    [3, 2, 2, 2, 1]],\n",
       "   [[3, 2, 2, 2, 1],\n",
       "    [3, 2, 2, 2, 1],\n",
       "    [3, 2, 2, 2, 1],\n",
       "    [3, 2, 2, 2, 1],\n",
       "    [3, 2, 2, 2, 1]]],\n",
       "  [[[3, 2, 2, 2, 1],\n",
       "    [3, 2, 2, 2, 1],\n",
       "    [3, 2, 2, 2, 1],\n",
       "    [3, 2, 2, 2, 1],\n",
       "    [3, 2, 2, 2, 1]],\n",
       "   [[3, 2, 2, 2, 1],\n",
       "    [3, 2, 2, 2, 1],\n",
       "    [3, 2, 2, 2, 1],\n",
       "    [3, 2, 2, 2, 1],\n",
       "    [3, 2, 2, 2, 1]],\n",
       "   [[3, 2, 2, 2, 1],\n",
       "    [3, 2, 2, 2, 1],\n",
       "    [3, 2, 2, 2, 1],\n",
       "    [3, 2, 2, 2, 1],\n",
       "    [3, 2, 2, 2, 1]],\n",
       "   [[3, 2, 2, 2, 1],\n",
       "    [3, 2, 2, 2, 1],\n",
       "    [3, 2, 2, 2, 1],\n",
       "    [3, 2, 2, 2, 1],\n",
       "    [3, 2, 2, 2, 1]],\n",
       "   [[3, 2, 2, 2, 1],\n",
       "    [3, 2, 2, 2, 1],\n",
       "    [3, 2, 2, 2, 1],\n",
       "    [3, 2, 2, 2, 1],\n",
       "    [3, 2, 2, 2, 1]]],\n",
       "  [[[3, 2, 2, 2, 1],\n",
       "    [3, 2, 2, 2, 1],\n",
       "    [3, 2, 2, 2, 1],\n",
       "    [3, 2, 2, 2, 1],\n",
       "    [3, 2, 2, 2, 1]],\n",
       "   [[3, 2, 2, 2, 1],\n",
       "    [3, 2, 2, 2, 1],\n",
       "    [3, 2, 2, 2, 1],\n",
       "    [3, 2, 2, 2, 1],\n",
       "    [3, 2, 2, 2, 1]],\n",
       "   [[3, 2, 2, 2, 1],\n",
       "    [3, 2, 2, 2, 1],\n",
       "    [3, 2, 2, 2, 1],\n",
       "    [3, 2, 2, 2, 1],\n",
       "    [3, 2, 2, 2, 1]],\n",
       "   [[3, 2, 2, 2, 1],\n",
       "    [3, 2, 2, 2, 1],\n",
       "    [3, 2, 2, 2, 1],\n",
       "    [3, 2, 2, 2, 1],\n",
       "    [3, 2, 2, 2, 1]],\n",
       "   [[3, 2, 2, 2, 1],\n",
       "    [3, 2, 2, 2, 1],\n",
       "    [3, 2, 2, 2, 1],\n",
       "    [3, 2, 2, 2, 1],\n",
       "    [3, 2, 2, 2, 1]]]],\n",
       " 'last_action': {'type': None,\n",
       "  'pnr': None,\n",
       "  'cnr': None,\n",
       "  'color': None,\n",
       "  'rank': None}}"
      ]
     },
     "execution_count": 4,
     "metadata": {},
     "output_type": "execute_result"
    }
   ],
   "source": [
    "# game with 3 players and 5 cards at hand for each\n",
    "num_player = 3 \n",
    "num_card = 5\n",
    "\n",
    "# initial game state\n",
    "context = init_context(num_player, num_card)\n",
    "context"
   ]
  },
  {
   "cell_type": "code",
   "execution_count": 5,
   "metadata": {
    "scrolled": true,
    "slideshow": {
     "slide_type": "notes"
    }
   },
   "outputs": [
    {
     "data": {
      "text/plain": [
       "{'life_tokens': 2,\n",
       " 'information_tokens': 7,\n",
       " 'fireworks': {0: -1, 1: -1, 2: -1, 3: -1, 4: -1},\n",
       " 'discard_pile': [{'color': 3, 'rank': 1}],\n",
       " 'hand': [[{'color': None, 'rank': None},\n",
       "   {'color': None, 'rank': None},\n",
       "   {'color': None, 'rank': None},\n",
       "   {'color': None, 'rank': None},\n",
       "   {'color': None, 'rank': None}],\n",
       "  [{'color': None, 'rank': None},\n",
       "   {'color': None, 'rank': None},\n",
       "   {'color': None, 'rank': None},\n",
       "   {'color': None, 'rank': None},\n",
       "   {'color': None, 'rank': None}],\n",
       "  [{'color': None, 'rank': None},\n",
       "   {'color': None, 'rank': None},\n",
       "   {'color': None, 'rank': None},\n",
       "   {'color': None, 'rank': None},\n",
       "   {'color': None, 'rank': None}]],\n",
       " 'knowledge': [[[[3, 2, 2, 2, 1],\n",
       "    [3, 2, 2, 2, 1],\n",
       "    [3, 2, 2, 2, 1],\n",
       "    [3, 2, 2, 2, 1],\n",
       "    [3, 2, 2, 2, 1]],\n",
       "   [[3, 2, 2, 2, 1],\n",
       "    [3, 2, 2, 2, 1],\n",
       "    [3, 2, 2, 2, 1],\n",
       "    [3, 2, 2, 2, 1],\n",
       "    [3, 2, 2, 2, 1]],\n",
       "   [[3, 2, 2, 2, 1],\n",
       "    [3, 2, 2, 2, 1],\n",
       "    [3, 2, 2, 2, 1],\n",
       "    [3, 2, 2, 2, 1],\n",
       "    [3, 2, 2, 2, 1]],\n",
       "   [[3, 2, 2, 2, 1],\n",
       "    [3, 2, 2, 2, 1],\n",
       "    [3, 2, 2, 2, 1],\n",
       "    [3, 2, 2, 2, 1],\n",
       "    [3, 2, 2, 2, 1]],\n",
       "   [[3, 2, 2, 2, 1],\n",
       "    [3, 2, 2, 2, 1],\n",
       "    [3, 2, 2, 2, 1],\n",
       "    [3, 1, 2, 2, 1],\n",
       "    [3, 2, 2, 2, 1]]],\n",
       "  [[[3, 2, 2, 2, 1],\n",
       "    [3, 2, 2, 2, 1],\n",
       "    [3, 2, 2, 2, 1],\n",
       "    [3, 2, 2, 2, 1],\n",
       "    [3, 2, 2, 2, 1]],\n",
       "   [[3, 2, 2, 2, 1],\n",
       "    [3, 2, 2, 2, 1],\n",
       "    [3, 2, 2, 2, 1],\n",
       "    [3, 2, 2, 2, 1],\n",
       "    [3, 2, 2, 2, 1]],\n",
       "   [[3, 2, 2, 2, 1],\n",
       "    [3, 2, 2, 2, 1],\n",
       "    [3, 2, 2, 2, 1],\n",
       "    [3, 2, 2, 2, 1],\n",
       "    [3, 2, 2, 2, 1]],\n",
       "   [[3, 2, 2, 2, 1],\n",
       "    [3, 2, 2, 2, 1],\n",
       "    [3, 2, 2, 2, 1],\n",
       "    [3, 2, 2, 2, 1],\n",
       "    [3, 2, 2, 2, 1]],\n",
       "   [[3, 2, 2, 2, 1],\n",
       "    [3, 2, 2, 2, 1],\n",
       "    [3, 2, 2, 2, 1],\n",
       "    [3, 2, 2, 2, 1],\n",
       "    [3, 2, 2, 2, 1]]],\n",
       "  [[[3, 2, 2, 2, 1],\n",
       "    [3, 2, 2, 2, 1],\n",
       "    [3, 2, 2, 2, 1],\n",
       "    [3, 2, 2, 2, 1],\n",
       "    [3, 2, 2, 2, 1]],\n",
       "   [[3, 2, 2, 2, 1],\n",
       "    [3, 2, 2, 2, 1],\n",
       "    [3, 2, 2, 2, 1],\n",
       "    [3, 2, 2, 2, 1],\n",
       "    [3, 2, 2, 2, 1]],\n",
       "   [[3, 2, 2, 2, 1],\n",
       "    [3, 2, 2, 2, 1],\n",
       "    [3, 2, 2, 2, 1],\n",
       "    [3, 2, 2, 2, 1],\n",
       "    [3, 2, 2, 2, 1]],\n",
       "   [[3, 2, 2, 2, 1],\n",
       "    [3, 2, 2, 2, 1],\n",
       "    [3, 2, 2, 2, 1],\n",
       "    [3, 2, 2, 2, 1],\n",
       "    [3, 2, 2, 2, 1]],\n",
       "   [[3, 2, 2, 2, 1],\n",
       "    [3, 2, 2, 2, 1],\n",
       "    [3, 2, 2, 2, 1],\n",
       "    [3, 2, 2, 2, 1],\n",
       "    [3, 2, 2, 2, 1]]]],\n",
       " 'last_action': {'type': 'PLAY', 'pnr': 0, 'cnr': 0, 'color': 3, 'rank': 1}}"
      ]
     },
     "execution_count": 5,
     "metadata": {},
     "output_type": "execute_result"
    }
   ],
   "source": [
    "# plyr1 falsely play blue 2\n",
    "context = copy.deepcopy(update_game(context, {'type':'PLAY', 'pnr':0, 'cnr':0, 'color':BLUE, 'rank':TWO}) )\n",
    "context"
   ]
  },
  {
   "cell_type": "code",
   "execution_count": 6,
   "metadata": {
    "scrolled": true,
    "slideshow": {
     "slide_type": "notes"
    }
   },
   "outputs": [
    {
     "data": {
      "text/plain": [
       "{'life_tokens': 2,\n",
       " 'information_tokens': 7,\n",
       " 'fireworks': {0: -1, 1: -1, 2: -1, 3: 0, 4: -1},\n",
       " 'discard_pile': [{'color': 3, 'rank': 1}],\n",
       " 'hand': [[{'color': None, 'rank': None},\n",
       "   {'color': None, 'rank': None},\n",
       "   {'color': None, 'rank': None},\n",
       "   {'color': None, 'rank': None},\n",
       "   {'color': None, 'rank': None}],\n",
       "  [{'color': None, 'rank': None},\n",
       "   {'color': None, 'rank': None},\n",
       "   {'color': None, 'rank': None},\n",
       "   {'color': None, 'rank': None},\n",
       "   {'color': None, 'rank': None}],\n",
       "  [{'color': None, 'rank': None},\n",
       "   {'color': None, 'rank': None},\n",
       "   {'color': None, 'rank': None},\n",
       "   {'color': None, 'rank': None},\n",
       "   {'color': None, 'rank': None}]],\n",
       " 'knowledge': [[[[3, 2, 2, 2, 1],\n",
       "    [3, 2, 2, 2, 1],\n",
       "    [3, 2, 2, 2, 1],\n",
       "    [3, 2, 2, 2, 1],\n",
       "    [3, 2, 2, 2, 1]],\n",
       "   [[3, 2, 2, 2, 1],\n",
       "    [3, 2, 2, 2, 1],\n",
       "    [3, 2, 2, 2, 1],\n",
       "    [3, 2, 2, 2, 1],\n",
       "    [3, 2, 2, 2, 1]],\n",
       "   [[3, 2, 2, 2, 1],\n",
       "    [3, 2, 2, 2, 1],\n",
       "    [3, 2, 2, 2, 1],\n",
       "    [3, 2, 2, 2, 1],\n",
       "    [3, 2, 2, 2, 1]],\n",
       "   [[3, 2, 2, 2, 1],\n",
       "    [3, 2, 2, 2, 1],\n",
       "    [3, 2, 2, 2, 1],\n",
       "    [3, 2, 2, 2, 1],\n",
       "    [3, 2, 2, 2, 1]],\n",
       "   [[3, 2, 2, 2, 1],\n",
       "    [3, 2, 2, 2, 1],\n",
       "    [3, 2, 2, 2, 1],\n",
       "    [3, 1, 2, 2, 1],\n",
       "    [3, 2, 2, 2, 1]]],\n",
       "  [[[3, 2, 2, 2, 1],\n",
       "    [3, 2, 2, 2, 1],\n",
       "    [3, 2, 2, 2, 1],\n",
       "    [3, 2, 2, 2, 1],\n",
       "    [3, 2, 2, 2, 1]],\n",
       "   [[3, 2, 2, 2, 1],\n",
       "    [3, 2, 2, 2, 1],\n",
       "    [3, 2, 2, 2, 1],\n",
       "    [3, 2, 2, 2, 1],\n",
       "    [3, 2, 2, 2, 1]],\n",
       "   [[3, 2, 2, 2, 1],\n",
       "    [3, 2, 2, 2, 1],\n",
       "    [3, 2, 2, 2, 1],\n",
       "    [3, 2, 2, 2, 1],\n",
       "    [3, 2, 2, 2, 1]],\n",
       "   [[3, 2, 2, 2, 1],\n",
       "    [3, 2, 2, 2, 1],\n",
       "    [3, 2, 2, 2, 1],\n",
       "    [3, 2, 2, 2, 1],\n",
       "    [3, 2, 2, 2, 1]],\n",
       "   [[3, 2, 2, 2, 1],\n",
       "    [3, 2, 2, 2, 1],\n",
       "    [3, 2, 2, 2, 1],\n",
       "    [3, 1, 2, 2, 1],\n",
       "    [3, 2, 2, 2, 1]]],\n",
       "  [[[3, 2, 2, 2, 1],\n",
       "    [3, 2, 2, 2, 1],\n",
       "    [3, 2, 2, 2, 1],\n",
       "    [3, 2, 2, 2, 1],\n",
       "    [3, 2, 2, 2, 1]],\n",
       "   [[3, 2, 2, 2, 1],\n",
       "    [3, 2, 2, 2, 1],\n",
       "    [3, 2, 2, 2, 1],\n",
       "    [3, 2, 2, 2, 1],\n",
       "    [3, 2, 2, 2, 1]],\n",
       "   [[3, 2, 2, 2, 1],\n",
       "    [3, 2, 2, 2, 1],\n",
       "    [3, 2, 2, 2, 1],\n",
       "    [3, 2, 2, 2, 1],\n",
       "    [3, 2, 2, 2, 1]],\n",
       "   [[3, 2, 2, 2, 1],\n",
       "    [3, 2, 2, 2, 1],\n",
       "    [3, 2, 2, 2, 1],\n",
       "    [3, 2, 2, 2, 1],\n",
       "    [3, 2, 2, 2, 1]],\n",
       "   [[3, 2, 2, 2, 1],\n",
       "    [3, 2, 2, 2, 1],\n",
       "    [3, 2, 2, 2, 1],\n",
       "    [3, 2, 2, 2, 1],\n",
       "    [3, 2, 2, 2, 1]]]],\n",
       " 'last_action': {'type': 'PLAY', 'pnr': 1, 'cnr': 0, 'color': 3, 'rank': 0}}"
      ]
     },
     "execution_count": 6,
     "metadata": {},
     "output_type": "execute_result"
    }
   ],
   "source": [
    "# plyr2 correctly play blue 1\n",
    "context = copy.deepcopy(update_game(context, {'type':'PLAY', 'pnr':1, 'cnr':0, 'color':BLUE, 'rank':ONE}) )\n",
    "context"
   ]
  },
  {
   "cell_type": "markdown",
   "metadata": {
    "slideshow": {
     "slide_type": "slide"
    }
   },
   "source": [
    "# Update\n",
    "After each action, intention, i.e. what should be done with the card, for each hand of each player will be updated. We assume that all agents share the same intention distribution. The computational process of updating is described from bottom to top below."
   ]
  },
  {
   "cell_type": "markdown",
   "metadata": {
    "slideshow": {
     "slide_type": "subslide"
    }
   },
   "source": [
    "### *Variables\n",
    "i: **intention** distribution for each card. Describes the common belieft of what should be done with each card.  <br>\n",
    "e.g.) [PLAY:0.7, DISCARD:0.25, KEEP:0.05] for 2nd card of my hand \n",
    "\n",
    "a: **action** that just happened. <br>\n",
    "e.g.) Player 3 discarded their 2nd card\n",
    "\n",
    "c: **context** which includes trash piles, played cards (top board), # hint tokens, # error tokens and knowledge structure of different players. <br>\n",
    "e.g.) firework=[R:0,G:0,Y:1,B:3,W:0], trash=[R1,B1], errorcoin=2, knowledge[player][card][color][rank] = 2 representing number of instance for that specific combination of color and rank <br>\n",
    "\n",
    "r: a single **specific** realisation, identical with context up to hands of each player. <br>\n",
    "e.g.) top board=[R:0,G:0,Y:1,B:3,W:0], trash=[R1,B1], errorcoin=2, knowledge[player][card] = (Blue,2) rpresenting a specific realisation for each hand of each player"
   ]
  },
  {
   "cell_type": "code",
   "execution_count": 7,
   "metadata": {
    "scrolled": true,
    "slideshow": {
     "slide_type": "subslide"
    }
   },
   "outputs": [
    {
     "data": {
      "text/plain": [
       "{'life_tokens': 2,\n",
       " 'information_tokens': 7,\n",
       " 'fireworks': {0: -1, 1: -1, 2: -1, 3: 0, 4: -1},\n",
       " 'discard_pile': [{'color': 3, 'rank': 1}],\n",
       " 'hand': [[{'color': None, 'rank': None},\n",
       "   {'color': None, 'rank': None},\n",
       "   {'color': None, 'rank': None},\n",
       "   {'color': None, 'rank': None},\n",
       "   {'color': None, 'rank': None}],\n",
       "  [{'color': None, 'rank': None},\n",
       "   {'color': None, 'rank': None},\n",
       "   {'color': None, 'rank': None},\n",
       "   {'color': None, 'rank': None},\n",
       "   {'color': None, 'rank': None}],\n",
       "  [{'color': None, 'rank': None},\n",
       "   {'color': None, 'rank': None},\n",
       "   {'color': None, 'rank': None},\n",
       "   {'color': None, 'rank': None},\n",
       "   {'color': None, 'rank': None}]],\n",
       " 'knowledge': [[[[3, 2, 2, 2, 1],\n",
       "    [3, 2, 2, 2, 1],\n",
       "    [3, 2, 2, 2, 1],\n",
       "    [3, 2, 2, 2, 1],\n",
       "    [3, 2, 2, 2, 1]],\n",
       "   [[3, 2, 2, 2, 1],\n",
       "    [3, 2, 2, 2, 1],\n",
       "    [3, 2, 2, 2, 1],\n",
       "    [3, 2, 2, 2, 1],\n",
       "    [3, 2, 2, 2, 1]],\n",
       "   [[3, 2, 2, 2, 1],\n",
       "    [3, 2, 2, 2, 1],\n",
       "    [3, 2, 2, 2, 1],\n",
       "    [3, 2, 2, 2, 1],\n",
       "    [3, 2, 2, 2, 1]],\n",
       "   [[3, 2, 2, 2, 1],\n",
       "    [3, 2, 2, 2, 1],\n",
       "    [3, 2, 2, 2, 1],\n",
       "    [3, 2, 2, 2, 1],\n",
       "    [3, 2, 2, 2, 1]],\n",
       "   [[3, 2, 2, 2, 1],\n",
       "    [3, 2, 2, 2, 1],\n",
       "    [3, 2, 2, 2, 1],\n",
       "    [3, 1, 2, 2, 1],\n",
       "    [3, 2, 2, 2, 1]]],\n",
       "  [[[3, 2, 2, 2, 1],\n",
       "    [3, 2, 2, 2, 1],\n",
       "    [3, 2, 2, 2, 1],\n",
       "    [3, 2, 2, 2, 1],\n",
       "    [3, 2, 2, 2, 1]],\n",
       "   [[3, 2, 2, 2, 1],\n",
       "    [3, 2, 2, 2, 1],\n",
       "    [3, 2, 2, 2, 1],\n",
       "    [3, 2, 2, 2, 1],\n",
       "    [3, 2, 2, 2, 1]],\n",
       "   [[3, 2, 2, 2, 1],\n",
       "    [3, 2, 2, 2, 1],\n",
       "    [3, 2, 2, 2, 1],\n",
       "    [3, 2, 2, 2, 1],\n",
       "    [3, 2, 2, 2, 1]],\n",
       "   [[3, 2, 2, 2, 1],\n",
       "    [3, 2, 2, 2, 1],\n",
       "    [3, 2, 2, 2, 1],\n",
       "    [3, 2, 2, 2, 1],\n",
       "    [3, 2, 2, 2, 1]],\n",
       "   [[3, 2, 2, 2, 1],\n",
       "    [3, 2, 2, 2, 1],\n",
       "    [3, 2, 2, 2, 1],\n",
       "    [3, 1, 2, 2, 1],\n",
       "    [3, 2, 2, 2, 1]]],\n",
       "  [[[3, 2, 2, 2, 1],\n",
       "    [3, 2, 2, 2, 1],\n",
       "    [3, 2, 2, 2, 1],\n",
       "    [3, 2, 2, 2, 1],\n",
       "    [3, 2, 2, 2, 1]],\n",
       "   [[3, 2, 2, 2, 1],\n",
       "    [3, 2, 2, 2, 1],\n",
       "    [3, 2, 2, 2, 1],\n",
       "    [3, 2, 2, 2, 1],\n",
       "    [3, 2, 2, 2, 1]],\n",
       "   [[3, 2, 2, 2, 1],\n",
       "    [3, 2, 2, 2, 1],\n",
       "    [3, 2, 2, 2, 1],\n",
       "    [3, 2, 2, 2, 1],\n",
       "    [3, 2, 2, 2, 1]],\n",
       "   [[3, 2, 2, 2, 1],\n",
       "    [3, 2, 2, 2, 1],\n",
       "    [3, 2, 2, 2, 1],\n",
       "    [3, 2, 2, 2, 1],\n",
       "    [3, 2, 2, 2, 1]],\n",
       "   [[3, 2, 2, 2, 1],\n",
       "    [3, 2, 2, 2, 1],\n",
       "    [3, 2, 2, 2, 1],\n",
       "    [3, 2, 2, 2, 1],\n",
       "    [3, 2, 2, 2, 1]]]],\n",
       " 'last_action': {'type': 'PLAY', 'pnr': 1, 'cnr': 0, 'color': 3, 'rank': 0}}"
      ]
     },
     "execution_count": 7,
     "metadata": {},
     "output_type": "execute_result"
    }
   ],
   "source": [
    "# Example of how context looks like\n",
    "context"
   ]
  },
  {
   "cell_type": "markdown",
   "metadata": {
    "slideshow": {
     "slide_type": "slide"
    }
   },
   "source": [
    "### 4. Utility function (hand-crafted)\n",
    "- $U(i,r)$\n",
    "- Hand-crafted utilities suggested by Saskia\n",
    "- Compute utility based on a given realisation and a single intention type (PLAY, DISCARD, KEEP)"
   ]
  },
  {
   "cell_type": "code",
   "execution_count": 30,
   "metadata": {
    "slideshow": {
     "slide_type": "subslide"
    }
   },
   "outputs": [],
   "source": [
    "def utility(intention, realisation, player_index, card_index):\n",
    "    '''\n",
    "    return a utility for a given card (decided by card_index, player_index) of a given realisation \n",
    "    from various realisations\n",
    "    '''\n",
    "    score = 0\n",
    "    card = copy.deepcopy(realisation['hand'][player_index][card_index])  # select a card\n",
    "\n",
    "    if intention == PLAY:\n",
    "        # in intention is play and card is playable, \n",
    "        # this results in one more card on the fireworks.\n",
    "        # reward this.\n",
    "        if CardPlayable(card, realisation['fireworks']):\n",
    "            score += 10\n",
    "\n",
    "        # if intention is play and card is not playable at the time\n",
    "        else:\n",
    "            # punish loosing a card from stack\n",
    "            score -= 1\n",
    "            # and punish getting a bomb depending on the number of bombs\n",
    "            if realisation['life_tokens'] == 3:\n",
    "                score -= 1\n",
    "            elif realisation['life_tokens'] == 2:\n",
    "                score -= 3\n",
    "            elif realisation['life_tokens'] == 1: # game would end directly\n",
    "                score -= 25\n",
    "\n",
    "            # if card would still have been relevant in the future,\n",
    "            # punish loosing it depending on the remaining copies of this card in the deck\n",
    "            if not CardUseless(card, realisation['fireworks']):\n",
    "                if remaining_copies(card, realisation['discard_pile']) == 2:\n",
    "                    score -= 1\n",
    "                elif remaining_copies(card, realisation['discard_pile']) == 1:\n",
    "                    score -= 2\n",
    "                elif remaining_copies(card, realisation['discard_pile']) == 0:\n",
    "                    score -= 5\n",
    "\n",
    "\n",
    "    elif intention == DISCARD:\n",
    "        # punish loosing a card from stack\n",
    "        score -= 1\n",
    "\n",
    "        # reward gaining a hint token:\n",
    "        score += 0.5\n",
    "\n",
    "        # punish discarding a playable card\n",
    "        if CardPlayable(card, realisation['fireworks']):\n",
    "            score -= 5\n",
    "\n",
    "        # if card is not playable right now but would have been relevant in the future, punish\n",
    "        # discarding it depending on the number of remaining copies in the game\n",
    "        elif not CardUseless(card, realisation['fireworks']):\n",
    "            if remaining_copies(card, realisation['discard_pile']) == 2:\n",
    "                score -= 1\n",
    "            elif remaining_copies(card, realisation['discard_pile']) == 1:\n",
    "                score -= 2\n",
    "            elif remaining_copies(card, realisation['discard_pile']) == 0:\n",
    "                score -= 5\n",
    "\n",
    "        # do we want to reward this additionally? I think rewarding gaining a hint token should be\n",
    "        # enough, so nothing happens here\n",
    "        elif CardUseless(card, realisation['fireworks']):\n",
    "            pass\n",
    "\n",
    "    elif intention == KEEP:\n",
    "        # keeping a playable card is punished, because it does not help the game\n",
    "        if CardPlayable(card, realisation['fireworks']):\n",
    "            score -= 2\n",
    "\n",
    "        # if card is not playable right now but is relevant in the future of the game reward keeping\n",
    "        # this card depending on the remaining copies in the game\n",
    "        elif not CardUseless(card, realisation['fireworks']):\n",
    "            if remaining_copies(card, realisation['discard_pile']) == 2:\n",
    "                score += 1\n",
    "            elif remaining_copies(card, realisation['discard_pile']) == 1:\n",
    "                score += 2\n",
    "            elif remaining_copies(card, realisation['discard_pile']) == 0:\n",
    "                score += 5\n",
    "\n",
    "        # punish keeping a useless card\n",
    "        elif CardUseless(card, realisation['fireworks']):\n",
    "            score -= 1\n",
    "\n",
    "    return score"
   ]
  },
  {
   "cell_type": "markdown",
   "metadata": {
    "slideshow": {
     "slide_type": "subslide"
    }
   },
   "source": [
    "example"
   ]
  },
  {
   "cell_type": "code",
   "execution_count": 35,
   "metadata": {
    "scrolled": true,
    "slideshow": {
     "slide_type": "fragment"
    }
   },
   "outputs": [
    {
     "data": {
      "text/plain": [
       "-4"
      ]
     },
     "execution_count": 35,
     "metadata": {},
     "output_type": "execute_result"
    }
   ],
   "source": [
    "# assume there are only two possible realisations\n",
    "ex_r_set = [{'life_tokens': 3,\n",
    "             'information_tokens': 7,\n",
    "             # BLUE ONE is playable\n",
    "             'fireworks': {RED: THREE, YELLOW: TWO, GREEN: FOUR, WHITE: -1, BLUE: -1},\n",
    "             'discard_pile': [{'color':BLUE,'rank':ONE}, {'color':BLUE,'rank':ONE}, {'color':BLUE,'rank':THREE}],\n",
    "             'hand': [[{'color':BLUE,'rank':TWO}, {'color':RED,'rank':ONE}], \n",
    "                     [{'color':BLUE,'rank':FOUR}, {'color':YELLOW,'rank':ONE}],\n",
    "                      # BLUE ONE is the realisation that is selected\n",
    "                     [{'color':BLUE,'rank':ONE}, {'color':WHITE,'rank':THREE}]],\n",
    "             'knowledge_structure': None},\n",
    "\n",
    "            {'life_tokens': 3,\n",
    "             'information_tokens': 7,\n",
    "             'fireworks': {RED: THREE, YELLOW: TWO, GREEN: FOUR, WHITE: -1, BLUE: -1},\n",
    "             'discard_pile': [{'color':BLUE,'rank':ONE}, {'color':BLUE,'rank':ONE}, {'color':BLUE,'rank':THREE}],\n",
    "             'hand': [[{'color':BLUE,'rank':TWO}, {'color':RED,'rank':ONE}],\n",
    "                     [{'color':BLUE,'rank':FOUR}, {'color':YELLOW,'rank':ONE}],\n",
    "                      # Here it's BLUE FIVE\n",
    "                     [{'color':BLUE,'rank':FIVE}, {'color':WHITE,'rank':THREE}]],\n",
    "             'knowledge_structure': None}]\n",
    "# index of realisation for which the utility should be computed\n",
    "ex_r = 0\n",
    "\n",
    "# intention\n",
    "ex_i = PLAY\n",
    "\n",
    "# indicies of card\n",
    "ex_plyr = 2\n",
    "ex_card = 0\n",
    "\n",
    "utility(PLAY, ex_r_set[1], ex_plyr, ex_card)  # BLUE ONE in this example"
   ]
  },
  {
   "cell_type": "markdown",
   "metadata": {
    "slideshow": {
     "slide_type": "slide"
    }
   },
   "source": [
    "### 3. Pragmatic speaker\n",
    "- $P(r|i) = \\frac { exp( \\alpha U(i,r) )} {\\sum_{r^*}  exp( \\alpha U(i,r^*) )}$\n",
    "- For a given intention, how well does the chosen realisation corresponds to it with respect to other possible realisations?"
   ]
  },
  {
   "cell_type": "code",
   "execution_count": 10,
   "metadata": {
    "slideshow": {
     "slide_type": "subslide"
    }
   },
   "outputs": [],
   "source": [
    "def pragmatic_speaker(intention, realisation_set, reali_index, player_index, card_index):\n",
    "    alpha = 1 # TODO: fit(adjust) rationality parameter according to behaviour of coplyr\n",
    "    \n",
    "    # compute numerator\n",
    "    numerator = utility(intention, realisation_set[reali_index], player_index, card_index)\n",
    "    numerator = np.exp(alpha * numerator)\n",
    "    \n",
    "    # compute denominator\n",
    "    denominator = 0\n",
    "    \n",
    "    # TODO: possible_realisations should come from emul_marg\n",
    "    for r in realisation_set:  \n",
    "        summand = utility(intention, r, player_index, card_index)\n",
    "        summand = np.exp(alpha * summand)\n",
    "        denominator += summand\n",
    "        \n",
    "    return numerator / denominator"
   ]
  },
  {
   "cell_type": "markdown",
   "metadata": {
    "slideshow": {
     "slide_type": "subslide"
    }
   },
   "source": [
    "Example"
   ]
  },
  {
   "cell_type": "code",
   "execution_count": 11,
   "metadata": {
    "scrolled": true,
    "slideshow": {
     "slide_type": "fragment"
    }
   },
   "outputs": [
    {
     "data": {
      "text/plain": [
       "0.9999991684719723"
      ]
     },
     "execution_count": 11,
     "metadata": {},
     "output_type": "execute_result"
    }
   ],
   "source": [
    "pragmatic_speaker(intention=ex_i,\n",
    "                  realisation_set= ex_r_set,\n",
    "                  reali_index=ex_r,\n",
    "                  player_index=ex_plyr,\n",
    "                  card_index=ex_card\n",
    "                 )\n",
    "# Since the 0th realisation is playable, it is very likely that is meant in comparison with another one"
   ]
  },
  {
   "cell_type": "markdown",
   "metadata": {
    "slideshow": {
     "slide_type": "slide"
    }
   },
   "source": [
    "### 2. Pragmatic listener\n",
    "- $P(i|r) \\propto P(r|i) P(i)$\n",
    "- given the realisation of a board, compute how likely each intention is\n",
    "- computing simply by multiplying likelihood (given by the pragmatic speaker) with the prior and then renormalizing"
   ]
  },
  {
   "cell_type": "code",
   "execution_count": 12,
   "metadata": {
    "slideshow": {
     "slide_type": "subslide"
    }
   },
   "outputs": [],
   "source": [
    "def pragmatic_listener(realisation_set, reali_index, player_index, card_index):\n",
    "    # P(i|r) with 0:play, 1:discard, 2:keep\n",
    "    probs = np.zeros(3)\n",
    "    \n",
    "    # TODO: think about a meaningful prior\n",
    "    intention_prior = [1/3, 1/3, 1/3]\n",
    "    \n",
    "    # posterior\n",
    "    for intention in [PLAY,DISCARD,KEEP]:\n",
    "        probs[intention] = pragmatic_speaker(intention, realisation_set, reali_index, player_index, card_index\n",
    "                                            ) * intention_prior[intention]\n",
    "    # normalize\n",
    "    return probs /np.sum(probs)"
   ]
  },
  {
   "cell_type": "code",
   "execution_count": 13,
   "metadata": {
    "scrolled": true,
    "slideshow": {
     "slide_type": "subslide"
    }
   },
   "outputs": [
    {
     "data": {
      "text/plain": [
       "array([0.93860391, 0.04451415, 0.01688194])"
      ]
     },
     "execution_count": 13,
     "metadata": {},
     "output_type": "execute_result"
    }
   ],
   "source": [
    "pragmatic_listener(ex_r_set, ex_r, ex_plyr, ex_card)\n",
    "# The speaker probably meant PLAY based on given realisation"
   ]
  },
  {
   "cell_type": "markdown",
   "metadata": {
    "slideshow": {
     "slide_type": "slide"
    }
   },
   "source": [
    "### 1. Marginalise\n",
    "-  $P(i|a,c) = \\sum_r P(i,r|a,c) = \\sum_r P(i|r,a,c) P(r|a,c) = \\sum_r P(i|r) P(r|a,c)$\n",
    "- Compute expected value by summing over possible realisations given by the knowledge structure\n",
    "- Context is updated based on new action, constraining possible realisations\n",
    "- Since different realisations in all hands of all players must be taken into account, the realisation space is high-dimensional. For efficient sampling, an appropriate convergence criterion and efficient sampling algorithm is necessary. Currently, take only parts of samples.\n"
   ]
  },
  {
   "cell_type": "code",
   "execution_count": 14,
   "metadata": {
    "slideshow": {
     "slide_type": "subslide"
    }
   },
   "outputs": [],
   "source": [
    "def emul_marg(context, player_index, card_index):\n",
    "    '''\n",
    "    :param context: dict, updated general game situations and knowledge structure\n",
    "    :param player_index: int, 0-based index of player for which the intention should be updated\n",
    "    :param card_index: int, 0-based index of card \" \"\n",
    "    :returns : (,3) np.array, which is a simplex with probability for each sort of intention (PLAY, DISCARD, KEEP)\n",
    "    '''\n",
    "    \n",
    "    # Initialize\n",
    "    threshold = 1000  # num. of realisations to iterate over. Ideally, sum over all realisations\n",
    "    # TODO: maybe also implement time limit (Minseok) \n",
    "    realisation_set = [] # list of each realisation, at the end length of threshold\n",
    "    weights = np.zeros((threshold, num_player, num_card)) # P(r|c)\n",
    "    samples = np.zeros((threshold, 3)) # each sample is a simplex with 3 categories (play, discard, keep)\n",
    "    \n",
    "    # TODO: instead of going into prag_listen directly, first get all indicies\n",
    "    for sample_i in range(threshold):\n",
    "        # Use rejection sampling\n",
    "        while True:\n",
    "            # single instance of a complete realisation indicies (choose reali. for each card for each plyr)          \n",
    "            c_r_i = np.random.randint(low=0, high=5, size=(num_player,num_card,2)) \n",
    "            # numerator: num. instance for a chosen realisation of a chosen card\n",
    "            # denominator: total num. possible instance for a chosen card\n",
    "            probs = np.array([[context['knowledge'][pi][i][c_r_i[pi,i,0]][c_r_i[pi,i,1]] /\n",
    "                          np.sum(context['knowledge'][pi][i])\n",
    "                               for i in range(num_card)] for pi in range(num_player)])\n",
    "            \n",
    "            # Reject samples that cannot happen\n",
    "            if not np.all(probs > 0):  # rejected\n",
    "                pass # so go back into infinite loop again\n",
    "            else:  # accept since no cards with p=0\n",
    "                # Proceed with choosing realisation\n",
    "                r = copy.deepcopy(context)\n",
    "                r['hand'] = [  # fix color and rank for each card for each plyr\n",
    "                [{'color': c_r_i[pi,i,0], 'rank': c_r_i[pi,i,1]} \n",
    "                 for i in range(num_card)] for pi in range(num_player)]  \n",
    "                realisation_set.append(r)\n",
    "                weights[sample_i] = probs\n",
    "                break # break the infinite loop\n",
    "    \n",
    "    # Since we don't iterate over all realisations, renormalize P(r|a,c)\n",
    "    weights = np.exp(np.sum(np.log(weights), axis=(1,2))) # transition back to probability from log\n",
    "    weights /= np.sum(weights)\n",
    "    # Use RSA to reason about P(i|r) for given realisation\n",
    "    for sample_i in range(threshold):\n",
    "        # scale * 3 dim vec\n",
    "        #TODO: does this makes sense?? I think so if you think of it as linear weighted summation for each intention\n",
    "        samples[sample_i] = weights[sample_i] * pragmatic_listener( \n",
    "                    realisation_set, sample_i, player_index, card_index)\n",
    "    return np.sum(samples,axis=0)"
   ]
  },
  {
   "cell_type": "markdown",
   "metadata": {
    "slideshow": {
     "slide_type": "subslide"
    }
   },
   "source": [
    "Accuracy depending on num.samples (500 not enough, 1000 good enough)"
   ]
  },
  {
   "cell_type": "code",
   "execution_count": 273,
   "metadata": {
    "scrolled": true,
    "slideshow": {
     "slide_type": "subslide"
    }
   },
   "outputs": [
    {
     "name": "stdout",
     "output_type": "stream",
     "text": [
      "[0.2500643  0.43742528 0.31251042]\n",
      "[0.29425413 0.39726415 0.30848172]\n",
      "[0.28524759 0.40563587 0.30911654]\n",
      "[0.29439947 0.41168367 0.29391686]\n",
      "[0.26720647 0.43055285 0.30224068]\n"
     ]
    },
    {
     "ename": "KeyboardInterrupt",
     "evalue": "",
     "output_type": "error",
     "traceback": [
      "\u001b[0;31m---------------------------------------------------------------------------\u001b[0m",
      "\u001b[0;31mKeyboardInterrupt\u001b[0m                         Traceback (most recent call last)",
      "\u001b[0;32m<ipython-input-273-7cc27bfadb44>\u001b[0m in \u001b[0;36m<module>\u001b[0;34m\u001b[0m\n\u001b[1;32m      1\u001b[0m \u001b[0;31m# with 1000 samples\u001b[0m\u001b[0;34m\u001b[0m\u001b[0;34m\u001b[0m\u001b[0;34m\u001b[0m\u001b[0m\n\u001b[1;32m      2\u001b[0m \u001b[0;32mfor\u001b[0m \u001b[0m_\u001b[0m \u001b[0;32min\u001b[0m \u001b[0mrange\u001b[0m\u001b[0;34m(\u001b[0m\u001b[0;36m10\u001b[0m\u001b[0;34m)\u001b[0m\u001b[0;34m:\u001b[0m\u001b[0;34m\u001b[0m\u001b[0;34m\u001b[0m\u001b[0m\n\u001b[0;32m----> 3\u001b[0;31m     \u001b[0mprint\u001b[0m\u001b[0;34m(\u001b[0m\u001b[0memul_marg\u001b[0m\u001b[0;34m(\u001b[0m\u001b[0mcontext\u001b[0m\u001b[0;34m,\u001b[0m \u001b[0mex_plyr\u001b[0m\u001b[0;34m,\u001b[0m \u001b[0mex_card\u001b[0m\u001b[0;34m)\u001b[0m\u001b[0;34m)\u001b[0m\u001b[0;34m\u001b[0m\u001b[0;34m\u001b[0m\u001b[0m\n\u001b[0m",
      "\u001b[0;32m<ipython-input-272-83b8daaa8d3c>\u001b[0m in \u001b[0;36memul_marg\u001b[0;34m(context, player_index, card_index)\u001b[0m\n\u001b[1;32m     47\u001b[0m         \u001b[0;31m# scale * 3 dim vec\u001b[0m\u001b[0;34m\u001b[0m\u001b[0;34m\u001b[0m\u001b[0;34m\u001b[0m\u001b[0m\n\u001b[1;32m     48\u001b[0m         \u001b[0;31m#TODO: does this makes sense?? I think so if you think of it as linear weighted summation for each intention\u001b[0m\u001b[0;34m\u001b[0m\u001b[0;34m\u001b[0m\u001b[0;34m\u001b[0m\u001b[0m\n\u001b[0;32m---> 49\u001b[0;31m         samples[sample_i] = weights[sample_i] * pragmatic_listener( \n\u001b[0m\u001b[1;32m     50\u001b[0m                     realisation_set, sample_i, player_index, card_index)\n\u001b[1;32m     51\u001b[0m     \u001b[0;32mreturn\u001b[0m \u001b[0mnp\u001b[0m\u001b[0;34m.\u001b[0m\u001b[0msum\u001b[0m\u001b[0;34m(\u001b[0m\u001b[0msamples\u001b[0m\u001b[0;34m,\u001b[0m\u001b[0maxis\u001b[0m\u001b[0;34m=\u001b[0m\u001b[0;36m0\u001b[0m\u001b[0;34m)\u001b[0m\u001b[0;34m\u001b[0m\u001b[0;34m\u001b[0m\u001b[0m\n",
      "\u001b[0;32m<ipython-input-244-73d126f2d71c>\u001b[0m in \u001b[0;36mpragmatic_listener\u001b[0;34m(realisation_set, reali_index, player_index, card_index)\u001b[0m\n\u001b[1;32m      8\u001b[0m     \u001b[0;31m# posterior\u001b[0m\u001b[0;34m\u001b[0m\u001b[0;34m\u001b[0m\u001b[0;34m\u001b[0m\u001b[0m\n\u001b[1;32m      9\u001b[0m     \u001b[0;32mfor\u001b[0m \u001b[0mintention\u001b[0m \u001b[0;32min\u001b[0m \u001b[0;34m[\u001b[0m\u001b[0mPLAY\u001b[0m\u001b[0;34m,\u001b[0m\u001b[0mDISCARD\u001b[0m\u001b[0;34m,\u001b[0m\u001b[0mKEEP\u001b[0m\u001b[0;34m]\u001b[0m\u001b[0;34m:\u001b[0m\u001b[0;34m\u001b[0m\u001b[0;34m\u001b[0m\u001b[0m\n\u001b[0;32m---> 10\u001b[0;31m         probs[intention] = pragmatic_speaker(intention, realisation_set, reali_index, player_index, card_index\n\u001b[0m\u001b[1;32m     11\u001b[0m                                             ) * intention_prior[intention]\n\u001b[1;32m     12\u001b[0m     \u001b[0;31m# normalize\u001b[0m\u001b[0;34m\u001b[0m\u001b[0;34m\u001b[0m\u001b[0;34m\u001b[0m\u001b[0m\n",
      "\u001b[0;32m<ipython-input-7-139064594107>\u001b[0m in \u001b[0;36mpragmatic_speaker\u001b[0;34m(intention, realisation_set, reali_index, player_index, card_index)\u001b[0m\n\u001b[1;32m     11\u001b[0m     \u001b[0;31m# TODO: possible_realisations should come from emul_marg\u001b[0m\u001b[0;34m\u001b[0m\u001b[0;34m\u001b[0m\u001b[0;34m\u001b[0m\u001b[0m\n\u001b[1;32m     12\u001b[0m     \u001b[0;32mfor\u001b[0m \u001b[0mr\u001b[0m \u001b[0;32min\u001b[0m \u001b[0mrealisation_set\u001b[0m\u001b[0;34m:\u001b[0m\u001b[0;34m\u001b[0m\u001b[0;34m\u001b[0m\u001b[0m\n\u001b[0;32m---> 13\u001b[0;31m         \u001b[0msummand\u001b[0m \u001b[0;34m=\u001b[0m \u001b[0mutility\u001b[0m\u001b[0;34m(\u001b[0m\u001b[0mintention\u001b[0m\u001b[0;34m,\u001b[0m \u001b[0mr\u001b[0m\u001b[0;34m,\u001b[0m \u001b[0mplayer_index\u001b[0m\u001b[0;34m,\u001b[0m \u001b[0mcard_index\u001b[0m\u001b[0;34m)\u001b[0m\u001b[0;34m\u001b[0m\u001b[0;34m\u001b[0m\u001b[0m\n\u001b[0m\u001b[1;32m     14\u001b[0m         \u001b[0msummand\u001b[0m \u001b[0;34m=\u001b[0m \u001b[0mnp\u001b[0m\u001b[0;34m.\u001b[0m\u001b[0mexp\u001b[0m\u001b[0;34m(\u001b[0m\u001b[0malpha\u001b[0m \u001b[0;34m*\u001b[0m \u001b[0msummand\u001b[0m\u001b[0;34m)\u001b[0m\u001b[0;34m\u001b[0m\u001b[0;34m\u001b[0m\u001b[0m\n\u001b[1;32m     15\u001b[0m         \u001b[0mdenominator\u001b[0m \u001b[0;34m+=\u001b[0m \u001b[0msummand\u001b[0m\u001b[0;34m\u001b[0m\u001b[0;34m\u001b[0m\u001b[0m\n",
      "\u001b[0;32m<ipython-input-238-edfa1a0a3314>\u001b[0m in \u001b[0;36mutility\u001b[0;34m(intention, realisation, player_index, card_index)\u001b[0m\n\u001b[1;32m      5\u001b[0m     '''\n\u001b[1;32m      6\u001b[0m     \u001b[0mscore\u001b[0m \u001b[0;34m=\u001b[0m \u001b[0;36m0\u001b[0m\u001b[0;34m\u001b[0m\u001b[0;34m\u001b[0m\u001b[0m\n\u001b[0;32m----> 7\u001b[0;31m     \u001b[0mcard\u001b[0m \u001b[0;34m=\u001b[0m \u001b[0mcopy\u001b[0m\u001b[0;34m.\u001b[0m\u001b[0mdeepcopy\u001b[0m\u001b[0;34m(\u001b[0m\u001b[0mrealisation\u001b[0m\u001b[0;34m[\u001b[0m\u001b[0;34m'hand'\u001b[0m\u001b[0;34m]\u001b[0m\u001b[0;34m[\u001b[0m\u001b[0mplayer_index\u001b[0m\u001b[0;34m]\u001b[0m\u001b[0;34m[\u001b[0m\u001b[0mcard_index\u001b[0m\u001b[0;34m]\u001b[0m\u001b[0;34m)\u001b[0m  \u001b[0;31m# select a card\u001b[0m\u001b[0;34m\u001b[0m\u001b[0;34m\u001b[0m\u001b[0m\n\u001b[0m\u001b[1;32m      8\u001b[0m \u001b[0;34m\u001b[0m\u001b[0m\n\u001b[1;32m      9\u001b[0m     \u001b[0;32mif\u001b[0m \u001b[0mintention\u001b[0m \u001b[0;34m==\u001b[0m \u001b[0mPLAY\u001b[0m\u001b[0;34m:\u001b[0m\u001b[0;34m\u001b[0m\u001b[0;34m\u001b[0m\u001b[0m\n",
      "\u001b[0;32m~/miniconda3/envs/ml/lib/python3.8/copy.py\u001b[0m in \u001b[0;36mdeepcopy\u001b[0;34m(x, memo, _nil)\u001b[0m\n\u001b[1;32m    133\u001b[0m \u001b[0;34m\u001b[0m\u001b[0m\n\u001b[1;32m    134\u001b[0m     \u001b[0;32mif\u001b[0m \u001b[0mmemo\u001b[0m \u001b[0;32mis\u001b[0m \u001b[0;32mNone\u001b[0m\u001b[0;34m:\u001b[0m\u001b[0;34m\u001b[0m\u001b[0;34m\u001b[0m\u001b[0m\n\u001b[0;32m--> 135\u001b[0;31m         \u001b[0mmemo\u001b[0m \u001b[0;34m=\u001b[0m \u001b[0;34m{\u001b[0m\u001b[0;34m}\u001b[0m\u001b[0;34m\u001b[0m\u001b[0;34m\u001b[0m\u001b[0m\n\u001b[0m\u001b[1;32m    136\u001b[0m \u001b[0;34m\u001b[0m\u001b[0m\n\u001b[1;32m    137\u001b[0m     \u001b[0md\u001b[0m \u001b[0;34m=\u001b[0m \u001b[0mid\u001b[0m\u001b[0;34m(\u001b[0m\u001b[0mx\u001b[0m\u001b[0;34m)\u001b[0m\u001b[0;34m\u001b[0m\u001b[0;34m\u001b[0m\u001b[0m\n",
      "\u001b[0;31mKeyboardInterrupt\u001b[0m: "
     ]
    }
   ],
   "source": [
    "# with 1000 samples\n",
    "for _ in range(10):\n",
    "    print(emul_marg(context, ex_plyr, ex_card))"
   ]
  },
  {
   "cell_type": "markdown",
   "metadata": {
    "slideshow": {
     "slide_type": "subslide"
    }
   },
   "source": [
    "Examples"
   ]
  },
  {
   "cell_type": "code",
   "execution_count": 18,
   "metadata": {
    "scrolled": false,
    "slideshow": {
     "slide_type": "fragment"
    }
   },
   "outputs": [
    {
     "data": {
      "text/plain": [
       "array([0.33333333, 0.33333333, 0.33333333])"
      ]
     },
     "execution_count": 18,
     "metadata": {},
     "output_type": "execute_result"
    }
   ],
   "source": [
    "situation1 = {'life_tokens': 1,\n",
    "             'information_tokens': 7,\n",
    "             'fireworks': {0: -1, 1: -1, 2: -1, BLUE: -1, 4: -1},\n",
    "             'discard_pile': [{'color': BLUE, 'rank': TWO}, {'color': RED, 'rank': FOUR}],\n",
    "             'hand': [[{'color': None, 'rank': None}, {'color': None, 'rank': None}],\n",
    "              [{'color': None, 'rank': None}, {'color': None, 'rank': None}],\n",
    "              [{'color': None, 'rank': None}, {'color': None, 'rank': None}]],\n",
    "             'knowledge': [[[[3, 2, 2, 2, 1],\n",
    "                [3, 2, 2, 2, 1],\n",
    "                [3, 2, 2, 2, 1],\n",
    "                [3, 1, 2, 2, 1],\n",
    "                [3, 2, 2, 1, 1]],\n",
    "               [[3, 2, 2, 2, 1],\n",
    "                [3, 2, 2, 2, 1],\n",
    "                [3, 2, 2, 2, 1],\n",
    "                [3, 1, 2, 2, 1],\n",
    "                [3, 2, 2, 1, 1]]],\n",
    "              [[[3, 2, 2, 2, 1],\n",
    "                [3, 2, 2, 2, 1],\n",
    "                [3, 2, 2, 2, 1],\n",
    "                [3, 1, 2, 2, 1],\n",
    "                [3, 2, 2, 1, 1]],\n",
    "               [[3, 2, 2, 2, 1],\n",
    "                [3, 2, 2, 2, 1],\n",
    "                [3, 2, 2, 2, 1],\n",
    "                [3, 1, 2, 2, 1],\n",
    "                [3, 2, 2, 1, 1]]],\n",
    "              [[[3, 2, 2, 2, 1],\n",
    "                [3, 2, 2, 2, 1],\n",
    "                [3, 2, 2, 2, 1],\n",
    "                [3, 1, 2, 2, 1],\n",
    "                [3, 2, 2, 1, 1]],\n",
    "               # let's say that (2,1) card is fixed to be BLUE TWO, which should be kept\n",
    "               [[0, 0, 0, 0, 0],\n",
    "                [0, 0, 0, 0, 0],\n",
    "                [0, 0, 0, 0, 0],\n",
    "                [0, 1, 0, 0, 0],\n",
    "                [0, 0, 0, 0, 0]]]],\n",
    "             'last_action': {'type': 'PLAY', 'pnr': 0, 'cnr': 0, 'color': 3, 'rank': 1}}\n",
    "num_player=3\n",
    "num_card=2\n",
    "\n",
    "emul_marg(context=situation1, player_index=2, card_index=1)\n",
    "# expect keep to be high"
   ]
  },
  {
   "cell_type": "code",
   "execution_count": 20,
   "metadata": {
    "scrolled": true,
    "slideshow": {
     "slide_type": "notes"
    }
   },
   "outputs": [
    {
     "data": {
      "text/plain": [
       "array([0.33333333, 0.33333333, 0.33333333])"
      ]
     },
     "execution_count": 20,
     "metadata": {},
     "output_type": "execute_result"
    }
   ],
   "source": [
    "r1 = [{'life_tokens': 1, 'information_tokens': 7, 'fireworks': {0: -1, 1: -1, 2: -1, 3: -1, 4: -1}, 'discard_pile': [{'color': 3, 'rank': 1}, {'color': 4, 'rank': 3}], 'hand': [[{'color': 1, 'rank': 4}, {'color': 0, 'rank': 1}], [{'color': 1, 'rank': 0}, {'color': 1, 'rank': 2}], [{'color': 3, 'rank': 0}, {'color': 3, 'rank': 1}]], 'knowledge': [[[[3, 2, 2, 2, 1], [3, 2, 2, 2, 1], [3, 2, 2, 2, 1], [3, 1, 2, 2, 1], [3, 2, 2, 1, 1]], [[3, 2, 2, 2, 1], [3, 2, 2, 2, 1], [3, 2, 2, 2, 1], [3, 1, 2, 2, 1], [3, 2, 2, 1, 1]]], [[[3, 2, 2, 2, 1], [3, 2, 2, 2, 1], [3, 2, 2, 2, 1], [3, 1, 2, 2, 1], [3, 2, 2, 1, 1]], [[3, 2, 2, 2, 1], [3, 2, 2, 2, 1], [3, 2, 2, 2, 1], [3, 1, 2, 2, 1], [3, 2, 2, 1, 1]]], [[[3, 2, 2, 2, 1], [3, 2, 2, 2, 1], [3, 2, 2, 2, 1], [3, 1, 2, 2, 1], [3, 2, 2, 1, 1]], [[0, 0, 0, 0, 0], [0, 0, 0, 0, 0], [0, 0, 0, 0, 0], [0, 1, 0, 0, 0], [0, 0, 0, 0, 0]]]], 'last_action': {'type': 'PLAY', 'pnr': 0, 'cnr': 0, 'color': 3, 'rank': 1}},\n",
    "      {'life_tokens': 1, 'information_tokens': 7, 'fireworks': {0: -1, 1: -1, 2: -1, 3: -1, 4: -1}, 'discard_pile': [{'color': 3, 'rank': 1}, {'color': 4, 'rank': 3}], 'hand': [[{'color': 2, 'rank': 2}, {'color': 2, 'rank': 2}], [{'color': 2, 'rank': 3}, {'color': 3, 'rank': 2}], [{'color': 3, 'rank': 4}, {'color': 3, 'rank': 1}]], 'knowledge': [[[[3, 2, 2, 2, 1], [3, 2, 2, 2, 1], [3, 2, 2, 2, 1], [3, 1, 2, 2, 1], [3, 2, 2, 1, 1]], [[3, 2, 2, 2, 1], [3, 2, 2, 2, 1], [3, 2, 2, 2, 1], [3, 1, 2, 2, 1], [3, 2, 2, 1, 1]]], [[[3, 2, 2, 2, 1], [3, 2, 2, 2, 1], [3, 2, 2, 2, 1], [3, 1, 2, 2, 1], [3, 2, 2, 1, 1]], [[3, 2, 2, 2, 1], [3, 2, 2, 2, 1], [3, 2, 2, 2, 1], [3, 1, 2, 2, 1], [3, 2, 2, 1, 1]]], [[[3, 2, 2, 2, 1], [3, 2, 2, 2, 1], [3, 2, 2, 2, 1], [3, 1, 2, 2, 1], [3, 2, 2, 1, 1]], [[0, 0, 0, 0, 0], [0, 0, 0, 0, 0], [0, 0, 0, 0, 0], [0, 1, 0, 0, 0], [0, 0, 0, 0, 0]]]], 'last_action': {'type': 'PLAY', 'pnr': 0, 'cnr': 0, 'color': 3, 'rank': 1}}, \n",
    "      {'life_tokens': 1, 'information_tokens': 7, 'fireworks': {0: -1, 1: -1, 2: -1, 3: -1, 4: -1}, 'discard_pile': [{'color': 3, 'rank': 1}, {'color': 4, 'rank': 3}], 'hand': [[{'color': 2, 'rank': 3}, {'color': 2, 'rank': 4}], [{'color': 0, 'rank': 4}, {'color': 1, 'rank': 4}], [{'color': 1, 'rank': 1}, {'color': 3, 'rank': 1}]], 'knowledge': [[[[3, 2, 2, 2, 1], [3, 2, 2, 2, 1], [3, 2, 2, 2, 1], [3, 1, 2, 2, 1], [3, 2, 2, 1, 1]], [[3, 2, 2, 2, 1], [3, 2, 2, 2, 1], [3, 2, 2, 2, 1], [3, 1, 2, 2, 1], [3, 2, 2, 1, 1]]], [[[3, 2, 2, 2, 1], [3, 2, 2, 2, 1], [3, 2, 2, 2, 1], [3, 1, 2, 2, 1], [3, 2, 2, 1, 1]], [[3, 2, 2, 2, 1], [3, 2, 2, 2, 1], [3, 2, 2, 2, 1], [3, 1, 2, 2, 1], [3, 2, 2, 1, 1]]], [[[3, 2, 2, 2, 1], [3, 2, 2, 2, 1], [3, 2, 2, 2, 1], [3, 1, 2, 2, 1], [3, 2, 2, 1, 1]], [[0, 0, 0, 0, 0], [0, 0, 0, 0, 0], [0, 0, 0, 0, 0], [0, 1, 0, 0, 0], [0, 0, 0, 0, 0]]]], 'last_action': {'type': 'PLAY', 'pnr': 0, 'cnr': 0, 'color': 3, 'rank': 1}}]\n",
    "pragmatic_listener(r1,0,2,1)"
   ]
  },
  {
   "cell_type": "code",
   "execution_count": 22,
   "metadata": {
    "slideshow": {
     "slide_type": "notes"
    }
   },
   "outputs": [
    {
     "data": {
      "text/plain": [
       "0.3333333333333333"
      ]
     },
     "execution_count": 22,
     "metadata": {},
     "output_type": "execute_result"
    }
   ],
   "source": [
    "pragmatic_speaker(DISCARD, r1, 0,2,1)"
   ]
  },
  {
   "cell_type": "code",
   "execution_count": 28,
   "metadata": {
    "scrolled": true,
    "slideshow": {
     "slide_type": "notes"
    }
   },
   "outputs": [
    {
     "data": {
      "text/plain": [
       "-28"
      ]
     },
     "execution_count": 28,
     "metadata": {},
     "output_type": "execute_result"
    }
   ],
   "source": [
    "utility(PLAY,r1[0],2,1)"
   ]
  },
  {
   "cell_type": "markdown",
   "metadata": {},
   "source": [
    "1. Marginalise $P(i_n|a,c) = P(i|a,c) = \\sum_r P(i,r|a,c) = \\sum_r P(i|r,a,c) P(r|a,c)$ <br>\n",
    "$P(r|a,c)$ is already informed by last_action\n",
    "2. Listener $P(i|r,a,c) = \\dfrac{P(a|i,r,c) P(i|r,c)}{\\sum_{i^*}P(a|i^*,r,c) P(i^*|r,c)}  $     \n",
    "3. Speaker $P(a|r,i,c) =  \\dfrac{P(i,a|r,c)}{\\sum_{a^*}P(i,a^*|r,c)} =  \\dfrac{P(i|a,r,c) P(a|r,c)}{\\sum_{a^*}P(i|a^*,r,c) P(a^*|r,c)} =  \\dfrac{P(i|r,cN) P(a|r,c)}{\\sum_{a^*}P(i|,r,cN^*) P(a^*|r,c)}$\n",
    "4. Utility $U(i,r,cN)$\n",
    "\n",
    "The problem with this approach is that marginalisation over r happens one level above listener. This causes problem with weighing the right realisation with high weights"
   ]
  },
  {
   "cell_type": "markdown",
   "metadata": {},
   "source": [
    "# Real shit\n",
    " \n",
    "1. Factorize  <br>\n",
    " $P(i_{\\text{total}}|a,c)  \\stackrel{i.d.}{=}   \\prod_{\\text{card}} P(i_{\\text{card}}|a,c) $\n",
    "\n",
    "\n",
    "2. Listener <br>\n",
    "$P(i|a,c)  =  \\sum_{r} p(i,r|a,c)  =  \\sum_{r} \\dfrac {P(a|i,r,c) P(i,r|c)} {P(a|c)}  =  \\dfrac {\\sum_{r} P(a|i,r,c) P(i,r|c)} {\\sum_{i^*,r^*} P(a|i^*,r^*,c) P(i^*,r^*|c)}  \\stackrel{?}{=}  \\dfrac {\\sum_{r} P(a|i,r,c) P(i|c)P(r|c)} {\\sum_{i^*,r^*} P(a|i^*,r^*,c) P(i^*|c)P(r^*|c)}$\n",
    " \n",
    " + $P(a|i,r,c)$: comes from speaker\n",
    " + $P(i|c)$: prior as we had beforehand, possibly drop c dependence as well\n",
    " + $P(r|c)$: compute by fraction of number of instance of the specific realisation\n",
    " \n",
    " \n",
    "3. Speaker  <br>\n",
    "$P(a|r,i,c)  =  \\dfrac{P(i,a|r,c)}{\\sum_{a^*}P(i,a^*|r,c)}  =  \\dfrac {P(i|a,r,c) P(a|r,c)}{\\sum_{a^*} P(i|a^*,r,c) P(a^*|r,c)}   \\stackrel{(*)}{=}   \\dfrac {P(i|r,c_{\\text{new}}) P(a|r,c)} {\\sum_{a^*} P(i|,r,c_{\\text{new}}^*) P(a^*|r,c)}  =  \\dfrac {\\exp(\\alpha U(i|r,c_{\\text{new}})) P(a|r,c)} {\\sum_{a^*}\\exp(\\alpha U(i|r,c_{\\text{new}}^*)) P(a^*|r,c)}$\n",
    "\n",
    " + (*): use update_game() to get new game_state\n",
    " + $U(i|r,c_{\\text{new}})$: comes from utility\n",
    " + $P(a|r,c)$ is $0$ when $a$ is not legal and $\\frac{1}{\\text{#.action}}$ when $a$ is legal. Since the term is in both numerator and denominator, simply iterating over legal actions is sufficient.\n",
    "\n",
    "\n",
    "4. Utility <br>\n",
    "$U(i,r,c_{\\text{new}})$"
   ]
  },
  {
   "cell_type": "code",
   "execution_count": null,
   "metadata": {},
   "outputs": [],
   "source": [
    "def pragmatic_speaker(intention, realisation_set, reali_index, player_index, card_index):\n",
    "    alpha = 1 # TODO: fit(adjust) rationality parameter according to behaviour of coplyr\n",
    "    \n",
    "    # compute numerator\n",
    "    numerator = utility(intention, realisation_set[reali_index], player_index, card_index)\n",
    "    numerator = np.exp(alpha * numerator)\n",
    "    \n",
    "    # compute denominator\n",
    "    denominator = 0\n",
    "    \n",
    "    # TODO: possible_realisations should come from emul_marg\n",
    "    for r in realisation_set:  \n",
    "        summand = utility(intention, r, player_index, card_index)\n",
    "        summand = np.exp(alpha * summand)\n",
    "        denominator += summand\n",
    "        \n",
    "    return numerator / denominator"
   ]
  },
  {
   "cell_type": "markdown",
   "metadata": {
    "slideshow": {
     "slide_type": "slide"
    }
   },
   "source": [
    "# Future plans\n",
    "- Fix pragmatic speaker\n",
    "- Finish the update_game() function\n",
    "- Integrate into Deepmind framework\n",
    "- Find more efficient sampling algorithm (don't sample random realisations)"
   ]
  }
 ],
 "metadata": {
  "celltoolbar": "Slideshow",
  "kernelspec": {
   "display_name": "ml",
   "language": "python",
   "name": "ml"
  },
  "language_info": {
   "codemirror_mode": {
    "name": "ipython",
    "version": 3
   },
   "file_extension": ".py",
   "mimetype": "text/x-python",
   "name": "python",
   "nbconvert_exporter": "python",
   "pygments_lexer": "ipython3",
   "version": "3.8.3"
  }
 },
 "nbformat": 4,
 "nbformat_minor": 4
}
