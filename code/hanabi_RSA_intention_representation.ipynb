{
 "cells": [
  {
   "cell_type": "markdown",
   "metadata": {},
   "source": [
    "## Playground for RSA for Hanabi with 'intention representation' ##"
   ]
  },
  {
   "cell_type": "code",
   "execution_count": 29,
   "metadata": {},
   "outputs": [],
   "source": [
    "import numpy as np"
   ]
  },
  {
   "cell_type": "markdown",
   "metadata": {},
   "source": [
    "For this examples, let's imagine a 2 player game of Hanabi.\n",
    "\n",
    "Situation: Player 2 has a red card on chop position that Player 1 wants her \"to save\". Player 1 gives the hint \"red card (only) on 1st position\" to Player 2. Player 2 then reasons about Player 1's intention behind this hint. For now, this means she only reasons about the 1st card in her hand.\n"
   ]
  },
  {
   "cell_type": "code",
   "execution_count": 91,
   "metadata": {},
   "outputs": [],
   "source": [
    "# list of all available actions\n",
    "all_actions = ['red','blue','discard']\n",
    "all_intentions = ['to play', 'to save', 'to discard']\n",
    "\n",
    "\n",
    "# using fixed utilities that I made up\n",
    "utilities = {\n",
    "    'to play': {'red': 0.4, 'blue': -3, 'discard': -1},\n",
    "    'to save': {'red': 0.9, 'blue': -2, 'discard': -3},\n",
    "    'to discard': {'red': -1, 'blue': 0.01, 'discard': 0.9}\n",
    "}\n",
    "\n",
    "# assuming flat priors for now\n",
    "priors = {\n",
    "    'to play': 1,\n",
    "    'to save': 1,\n",
    "    'to discard': 1\n",
    "}"
   ]
  },
  {
   "cell_type": "markdown",
   "metadata": {},
   "source": [
    "\n",
    "Pragmatic Listener \n",
    "\n",
    "formular: probability_to_play = likelihood_action_given_intention * prior[intention]) / sum (all other likelihoods * prioir[intention])"
   ]
  },
  {
   "cell_type": "code",
   "execution_count": 49,
   "metadata": {},
   "outputs": [],
   "source": [
    "def prag_listener(action, intention):\n",
    "    bayes_numerator = (prag_speaker(action, intention) * priors[intention])\n",
    "    bayes_denominator = 0\n",
    "    for specific_intention in all_intentions:\n",
    "        bayes_denominator += prag_speaker(action, specific_intention) * priors[intention]\n",
    "    return bayes_numerator / bayes_denominator\n"
   ]
  },
  {
   "cell_type": "markdown",
   "metadata": {},
   "source": [
    "Pragmatic speaker"
   ]
  },
  {
   "cell_type": "code",
   "execution_count": 50,
   "metadata": {},
   "outputs": [],
   "source": [
    "def prag_speaker(action, intention):\n",
    "    alpha = 1\n",
    "    softmax_numerator = np.exp(alpha * utilities[intention][action])\n",
    "    softmax_denominator = 0\n",
    "    for specific_action in all_actions:\n",
    "        softmax_denominator += np.exp(alpha * utilities[intention][specific_action])\n",
    "    return softmax_numerator / softmax_denominator"
   ]
  },
  {
   "cell_type": "markdown",
   "metadata": {},
   "source": [
    "## Experiments ##"
   ]
  },
  {
   "cell_type": "code",
   "execution_count": 93,
   "metadata": {},
   "outputs": [
    {
     "name": "stdout",
     "output_type": "stream",
     "text": [
      "Hint is: 'red'\n",
      "\n",
      "probability to save:  0.5146285392914093\n",
      "probability to play:  0.4323242129538188\n",
      "probability to discard:  0.053047247754771897\n"
     ]
    }
   ],
   "source": [
    "prob_to_play = prag_listener('red', 'to play')\n",
    "prob_to_save = prag_listener('red', 'to save')\n",
    "prob_to_discard = prag_listener('red', 'to discard')\n",
    "\n",
    "print(\"Hint is: 'red'\\n\")\n",
    "print(\"probability to save: \",prob_to_save)\n",
    "print(\"probability to play: \",prob_to_play)\n",
    "print(\"probability to discard: \",prob_to_discard)"
   ]
  },
  {
   "cell_type": "markdown",
   "metadata": {},
   "source": [
    "## What to do next? ##\n",
    "- how to get reasonable priors / how to update them\n",
    "- integrate more of the board state\n",
    "- integrate: card positions, multiple cards"
   ]
  },
  {
   "cell_type": "code",
   "execution_count": null,
   "metadata": {},
   "outputs": [],
   "source": []
  }
 ],
 "metadata": {
  "kernelspec": {
   "display_name": "Python 3",
   "language": "python",
   "name": "python3"
  },
  "language_info": {
   "codemirror_mode": {
    "name": "ipython",
    "version": 3
   },
   "file_extension": ".py",
   "mimetype": "text/x-python",
   "name": "python",
   "nbconvert_exporter": "python",
   "pygments_lexer": "ipython3",
   "version": "3.7.5"
  }
 },
 "nbformat": 4,
 "nbformat_minor": 2
}
