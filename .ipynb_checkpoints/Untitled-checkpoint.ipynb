{
 "cells": [
  {
   "cell_type": "markdown",
   "metadata": {},
   "source": [
    "# Dynamic Epistemic Logic with Hanabi Toy Example #"
   ]
  },
  {
   "cell_type": "code",
   "execution_count": 5,
   "metadata": {},
   "outputs": [],
   "source": [
    "import numpy as np\n",
    "import random as rd\n",
    "import copy as cp"
   ]
  },
  {
   "cell_type": "markdown",
   "metadata": {},
   "source": [
    "### Class to represent Worlds ###"
   ]
  },
  {
   "cell_type": "code",
   "execution_count": 6,
   "metadata": {},
   "outputs": [],
   "source": [
    "class World:\n",
    "    \"\"\"\n",
    "    a world is a set of statements/facts about the current situation\n",
    "\n",
    "    attributes:\n",
    "    on_table: played cards on the on the table\n",
    "    player1_hand: list of cards that player 1 has currently on his hand\n",
    "    player2_hand: list of cards that player 2 has currently on his hand\n",
    "    \"\"\"\n",
    "\n",
    "    def __init__(self):\n",
    "        self.on_table = []\n",
    "        self.player1_hand = []\n",
    "        self.player2_hand = []\n",
    "        self.blitz = 0\n",
    "\n",
    "    def __str__(self):\n",
    "        \"\"\"\n",
    "        converts the world into a string, needed for printing conveniently\n",
    "        \"\"\"\n",
    "        return f'w = on table: {self.on_table} p1: {self.player1_hand} p2: {self.player2_hand}, blitz: {self.blitz}'\n",
    "\n",
    "    def __hash__(self):\n",
    "        \"\"\"\n",
    "        does a unique hashing for all worlds that are equal to each other regarding their attributes,\n",
    "        needed for elimation of doubles in the set of possible worlds\n",
    "        \"\"\"\n",
    "        return hash((str(self.on_table), str(self.player1_hand), str(self.player2_hand)))\n",
    "\n",
    "    def __eq__(self, other):\n",
    "        \"\"\"\n",
    "        compares two world objects in regards to their attributes,\n",
    "        two worlds are equal if the same cards are in player1's hand, player2's hand and\n",
    "        on the on_table in both worlds\n",
    "        \"\"\"\n",
    "        if not isinstance(other, type(self)): return NotImplemented\n",
    "        return self.on_table == other.on_table and self.player1_hand == other.player1_hand and self.player2_hand == other.player2_hand"
   ]
  },
  {
   "cell_type": "markdown",
   "metadata": {},
   "source": [
    "### Class representing Player's Point of View ###"
   ]
  },
  {
   "cell_type": "code",
   "execution_count": 7,
   "metadata": {},
   "outputs": [],
   "source": [
    "class Player:\n",
    "    \"\"\"\n",
    "    a representation of a player in the game\n",
    "\n",
    "    attriutes:\n",
    "    - name: player 1 or player 2\n",
    "    - possible_worlds: a set of unique worlds that the player considers possible from his point of view\n",
    "    \"\"\"\n",
    "\n",
    "    def __init__(self, name):\n",
    "        self.name = name\n",
    "        self.possible_worlds = set()\n",
    "\n",
    "    def create_possible_worlds(self):\n",
    "        \"\"\"\n",
    "        given the start situation, every possible world from all\n",
    "        player's point of views are created and stored\n",
    "        \"\"\"\n",
    "        \n",
    "        copy_real_world = cp.deepcopy(real_world)\n",
    "        self.possible_worlds.add(copy_real_world)\n",
    "        copy_pile = original_pile\n",
    "        if self.name is \"player1\":\n",
    "            copy_pile.remove(real_world.player2_hand[0])\n",
    "        if self.name is \"player2\":\n",
    "            copy_pile.remove(real_world.player1_hand[0])\n",
    "\n",
    "        for i, card in enumerate(copy_pile):\n",
    "            world = World()\n",
    "            if self.name is \"player1\":\n",
    "                world.player2_hand.append(real_world.player2_hand[0])\n",
    "                world.player1_hand.append(card)\n",
    "            if self.name is \"player2\":\n",
    "                world.player1_hand.append(real_world.player1_hand[0])\n",
    "                world.player2_hand.append(card)\n",
    "\n",
    "            self.possible_worlds.add(world)"
   ]
  },
  {
   "cell_type": "markdown",
   "metadata": {},
   "source": [
    "### Game functions ###"
   ]
  },
  {
   "cell_type": "code",
   "execution_count": 8,
   "metadata": {},
   "outputs": [],
   "source": [
    "def start_game():\n",
    "    \"\"\"\n",
    "    a game of Hanabi is started by having all player draw 1 card\n",
    "    \"\"\"\n",
    "    draw_card(player1)\n",
    "    draw_card(player2)\n",
    "\n",
    "def draw_card(player):\n",
    "    \"\"\"\n",
    "    a random card is drawn from the pile, either to player 1\n",
    "    or player 2\n",
    "    \"\"\"\n",
    "    random_index = rd.randint(0,len(pile) - 1)\n",
    "\n",
    "    if player.name is \"player1\":\n",
    "        real_world.player1_hand.append(pile.pop(random_index))\n",
    "\n",
    "    if player.name is \"player2\":\n",
    "        real_world.player2_hand.append(pile.pop(random_index))\n",
    "\n",
    "def play_card(player):\n",
    "\n",
    "    if player.name is \"player1\":\n",
    "        played_card = real_world.player1_hand.pop()\n",
    "    if player.name is \"player2\":\n",
    "        played_card = real_world.player2_hand.pop()\n",
    "\n",
    "    if played_card == 1:\n",
    "        real_world.on_table.append(played_card)\n",
    "    else:\n",
    "        real_world.blitz += 1\n",
    "\n",
    "    for w in player1.possible_worlds:\n",
    "        w.on_table = real_world.on_table\n",
    "        if player.name is \"player1\":\n",
    "            w.player1_hand.pop()\n",
    "        if player.name is \"player2\":\n",
    "            w.player2_hand.pop()\n",
    "        w.blitz = real_world.blitz\n",
    "\n",
    "    for w in player2.possible_worlds:\n",
    "        w.on_table = real_world.on_table\n",
    "        if player.name is \"player2\":\n",
    "            w.player2_hand.pop()\n",
    "        if player.name is \"player1\":\n",
    "            w.player1_hand.pop()\n",
    "        w.blitz = real_world.blitz\n",
    "\n",
    "def print_game_status():\n",
    "\n",
    "    print(\"------------------\")\n",
    "    print(\"[real world]\", real_world)\n",
    "    print(\"------------------\")\n",
    "\n",
    "    print(\"[possible worlds for player 1]\")\n",
    "    for w in player1.possible_worlds:\n",
    "        print(w)\n",
    "\n",
    "    print(\"\\n[possible worlds for player 2]\")\n",
    "    for w in player2.possible_worlds:\n",
    "        print(w)\n"
   ]
  },
  {
   "cell_type": "markdown",
   "metadata": {},
   "source": [
    "### Simulating the Game | Execute this Cell to run one game simulation! ###"
   ]
  },
  {
   "cell_type": "code",
   "execution_count": 17,
   "metadata": {},
   "outputs": [
    {
     "name": "stdout",
     "output_type": "stream",
     "text": [
      "\n",
      "------------------\n",
      "START OF THE GAME\n",
      "2 players, 4 cards, 1x2, 1x3, 1x1\n",
      "------------------\n",
      "ROUND 0: after drawing cards\n",
      "------------------\n",
      "[real world] w = on table: [] p1: [1] p2: [3], blitz: 0\n",
      "------------------\n",
      "[possible worlds for player 1]\n",
      "w = on table: [] p1: [2] p2: [3], blitz: 0\n",
      "w = on table: [] p1: [1] p2: [3], blitz: 0\n",
      "\n",
      "[possible worlds for player 2]\n",
      "w = on table: [] p1: [1] p2: [3], blitz: 0\n",
      "w = on table: [] p1: [1] p2: [2], blitz: 0\n",
      "w = on table: [] p1: [1] p2: [1], blitz: 0\n",
      "\n",
      "------------------\n",
      "ROUND 1: player 1 plays his card\n",
      "------------------\n",
      "[real world] w = on table: [1] p1: [] p2: [3], blitz: 0\n",
      "------------------\n",
      "[possible worlds for player 1]\n",
      "w = on table: [1] p1: [] p2: [3], blitz: 0\n",
      "w = on table: [1] p1: [] p2: [3], blitz: 0\n",
      "\n",
      "[possible worlds for player 2]\n",
      "w = on table: [1] p1: [] p2: [3], blitz: 0\n",
      "w = on table: [1] p1: [] p2: [2], blitz: 0\n",
      "w = on table: [1] p1: [] p2: [1], blitz: 0\n"
     ]
    }
   ],
   "source": [
    "# setting up the game, 1 colour, 1-3, 2 x [1] 1 x [2], 1 x [3]\n",
    "pile = [1,1,1,2,3]\n",
    "original_pile = [1,1,1,2,3]\n",
    "real_world = World()\n",
    "player1 = Player(\"player1\")\n",
    "player2 = Player(\"player2\")\n",
    "\n",
    "# Let's Play!\n",
    "\n",
    "start_game()\n",
    "player1.create_possible_worlds()\n",
    "player2.create_possible_worlds()\n",
    "\n",
    "print(\"\\n------------------\")\n",
    "print(\"START OF THE GAME\")\n",
    "print(\"2 players, 4 cards, 1x2, 1x3, 1x1\")\n",
    "print(\"------------------\")\n",
    "print(\"ROUND 0: after drawing cards\")\n",
    "\n",
    "print_game_status()\n",
    "play_card(player1)\n",
    "\n",
    "print(\"\\n------------------\")\n",
    "print(\"ROUND 1: player 1 plays his card\")\n",
    "print_game_status()"
   ]
  },
  {
   "cell_type": "code",
   "execution_count": null,
   "metadata": {},
   "outputs": [],
   "source": []
  }
 ],
 "metadata": {
  "kernelspec": {
   "display_name": "Python 3",
   "language": "python",
   "name": "python3"
  },
  "language_info": {
   "codemirror_mode": {
    "name": "ipython",
    "version": 3
   },
   "file_extension": ".py",
   "mimetype": "text/x-python",
   "name": "python",
   "nbconvert_exporter": "python",
   "pygments_lexer": "ipython3",
   "version": "3.6.8"
  }
 },
 "nbformat": 4,
 "nbformat_minor": 2
}
